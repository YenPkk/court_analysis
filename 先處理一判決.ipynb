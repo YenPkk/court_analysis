{
 "cells": [
  {
   "cell_type": "code",
   "execution_count": 178,
   "metadata": {},
   "outputs": [],
   "source": [
    "import requests as req\n",
    "from bs4 import BeautifulSoup as bs\n",
    "from pprint import pprint"
   ]
  },
  {
   "cell_type": "code",
   "execution_count": null,
   "metadata": {},
   "outputs": [],
   "source": []
  },
  {
   "cell_type": "code",
   "execution_count": 179,
   "metadata": {},
   "outputs": [],
   "source": [
    "first_case = 'https://judgment.judicial.gov.tw/FJUD/data.aspx?ty=JD&id=TPHM%2c112%2c%e4%b8%8a%e6%9b%b4%e4%b8%80%2c104%2c20240418%2c2&ot=in'\n",
    "\n",
    "res = req.get(first_case) \n",
    "\n",
    "soup = bs(res.text, \"lxml\") "
   ]
  },
  {
   "cell_type": "code",
   "execution_count": 180,
   "metadata": {},
   "outputs": [
    {
     "data": {
      "text/plain": [
       "'<div class=\"he-h1\" id=\"pasted_paragraph_1709705178987B_5074692\">臺灣高等法院刑事判決</div><div id=\"pasted_paragraph_1709705178987C_6047425\" style=\"text-align: right;\">112年度上更一字第104號</div><div id=\"pasted_paragraph_1709705178987D_9640483\"><abbr class=\"termhover\" id=\"%e4%b8%8a%e8%a8%b4\" rel=\"M\">上\\xa0 訴</abbr>\\xa0 人\\xa0 臺灣新北地方檢察署檢察官</div><div id=\"pasted_paragraph_1709705178987E_8071377\"><abbr class=\"termhover\" id=\"%e4%b8%8a%e8%a8%b4%e4%ba%ba\" rel=\"M\">上\\xa0 訴\\xa0 人</abbr>\\xa0 </div><div id=\"pasted_paragraph_1709705178987F_2523210\">即\\xa0 被\\xa0 告\\xa0 滕家龍</div><div id=\"pasted_paragraph_1709705178987G_3328613\" style=\"text-indent: -240px; padding-left: 240px;\"><br/></div><div id=\"pasted_paragraph_1709705178987H_7450347\" style=\"text-indent: -240px; padding-left: 240px;\"><br/></div><div id=\"pasted_paragraph_1709705178987I_2104159\" style=\"text-indent: -240px; padding-left: 240px;\"><br/></div><div id=\"pasted_paragraph_1709705178987J_5525165\" style=\"text-indent: -240px; padding-left: 240px;\"><br/></div><div id=\"pasted_paragraph_1709705178987K_3067297\"><abbr class=\"termhover\" id=\"%e6%8c%87%e5%ae%9a%e8%be%af%e8%ad%b7%e4%ba%ba\" rel=\"M\">指定<abbr class=\"termhover\" id=\"%e8%be%af%e8%ad%b7%e4%ba%ba\" rel=\"M\">辯護人</abbr></abbr>\\xa0 胡智忠<abbr class=\"termhover\" id=\"%e5%be%8b%e5%b8%ab\" rel=\"M\">律師</abbr>（法扶律師）\\xa0 \\xa0 \\xa0 \\xa0 \\xa0 </div><div id=\"pasted_paragraph_1709705178987L_3302337\">上列上訴人等因被告殺人案件，不服臺灣新北地方法院111年度重訴字第4號，中華民國111年8月4日第一審判決（<abbr class=\"termhover\" id=\"%e8%b5%b7%e8%a8%b4\" rel=\"M\">起訴</abbr>案號：臺灣新北地方檢察署110年度偵字第47827號、111年度偵字第5298號），提起上訴，經最高法院<abbr class=\"termhover\" id=\"%e7%99%bc%e5%9b%9e%e6%9b%b4%e5%af%a9\" rel=\"M\">發回更審</abbr>，本院判決如下：</div><div class=\"he-h3 notEdit\" contenteditable=\"false\" id=\"pasted_paragraph_1709705178987M_2133480\">\\xa0 \\xa0 主\\xa0 文</div><div id=\"pasted_paragraph_1709705178987N_1691509\" style=\"text-align: justify;\">原判決關於<abbr class=\"termhover\" id=\"%e6%ae%ba%e4%ba%ba%e7%bd%aa\" rel=\"M\">殺人罪</abbr>部分撤銷。</div><div id=\"pasted_paragraph_1709705178987O_2462212\" style=\"text-align: justify;\">滕家龍犯殺人罪，處<abbr class=\"termhover\" id=\"%e6%9c%89%e6%9c%9f%e5%be%92%e5%88%91\" rel=\"M\">有期徒刑</abbr>拾貳年。</div><div class=\"he-h3 notEdit\" contenteditable=\"false\" id=\"pasted_paragraph_1709705178987P_3457495\">\\xa0 \\xa0 事\\xa0 實</div><div id=\"pasted_paragraph_1709705178987Q_5251403\" style=\"text-indent: -48px; padding-left: 48px;\">一、滕家龍於民國110年12月5日晚上8時至近12時許，在好樂迪KTV飲酒後，再於<abbr class=\"termhover\" id=\"%e7%bf%8c%e6%97%a5\" rel=\"M\">翌日</abbr>（6日）0時許，至新北市○○區○○路000號之「ENJOY酒吧」，友人葉承璋、許睿祥亦到場為其慶生、飲酒。<abbr class=\"termhover\" id=\"%e8%bf%a8\" rel=\"M\">迨</abbr>至凌晨2時許，滕家龍、葉承璋、許睿祥遭店內鄰桌客人曾嘉毅、徐嘉呈嫌吵，因此起口角爭執。滕家龍、葉承璋、許睿祥遂步出至店外之車號0000-00自用小客車內聊天，滕家龍並於同日時15分許，在車內施用三級毒品愷他命（Ketamine）後，又返回酒吧。<abbr class=\"termhover\" id=\"%e5%97%a3\" rel=\"M\">嗣</abbr>於同日凌晨2時24分許，滕家龍見曾嘉毅、徐嘉呈2人在吧檯與人起爭執，雖與其無關，惟其因先前飲酒及施用愷他命，致其辨識行為違法及依其辨識而行為之能力顯著降低，竟基於傷害他人身體之犯意，與該2人互毆，致徐嘉呈受有頭部挫傷、頭皮撕裂傷2處（1.5公分、2公分）之傷害（滕家龍犯傷害罪，經原審判處有期徒刑4月確定），而滕家龍於互毆過程中遭曾嘉毅持酒瓶毆打其額頭致流血，心生不滿，即與曾嘉毅自店內扭打至店門外，在場之客人劉力德等人見狀遂將2人分開。<abbr class=\"termhover\" id=\"%e8%a9%8e\" rel=\"M\">詎</abbr>滕家龍明知人體胸部、腹部均係極重要又脆弱之部位，內含心、肺、胃、大腸、小腸等維生所需之重要器官，亦分佈動脈、靜脈血管，如以刀刺入人體胸腔、腹腔，勢將傷及上開臟器、血管因大量出血而導致死亡結果，竟提昇原傷害犯意為殺人之犯意，持隨身<abbr class=\"termhover\" id=\"%e6%94%9c%e5%b8%b6\" rel=\"M\">攜帶</abbr>之折疊刀（未<abbr class=\"termhover\" id=\"%e6%89%a3%e6%a1%88\" rel=\"M\">扣案</abbr>），朝向曾嘉毅之腹部及胸口揮砍、刺擊，致曾嘉毅受有左側鎖骨區1處銳器傷、左側鎖骨下動脈銳器傷出血、左肺上葉銳器貫穿傷、左肺塌陷、左側血胸、腹部3處銳器傷、左外側腹部銳器傷刺入腹腔及腸道、腸道外溢、左手部銳器傷等傷害，經緊急送醫急救後，仍於110年12月6日3時1分許，因大量出血及血胸而死亡。</div><div id=\"pasted_paragraph_1709705178987R_6700422\" style=\"text-align: justify; text-indent: -48px; padding-left: 48px;\">三、案經曾嘉毅之母親彭金燕訴由新北市政府警察局永和分局報告臺灣新北地方檢察署（下稱新北地檢署）檢察官<abbr class=\"termhover\" id=\"%e5%81%b5%e6%9f%a5\" rel=\"M\">偵查</abbr>起訴。</div><div class=\"he-h3 notEdit\" contenteditable=\"false\" id=\"pasted_paragraph_1709705178987S_5735532\">\\xa0 \\xa0 理\\xa0 由</div><div id=\"pasted_paragraph_1709705178987T_1188833\" style=\"text-align: justify; text-indent: -48px; padding-left: 48px;\">甲、程序方面：</div><div id=\"pasted_paragraph_1709705178987U_7010193\" style=\"text-align: justify; text-indent: -48px; padding-left: 48px;\">壹、本院審理之範圍：</div><div id=\"pasted_paragraph_1709705178987V_4062977\" style=\"text-align: justify; text-indent: -48px; padding-left: 48px;\">\\xa0 \\xa0 <abbr class=\"termhover\" id=\"%e6%8c%89\" rel=\"M\">按</abbr>上訴得對於判決之一部為之，刑事訴訟法第348條第1項定有明文。查原審判決上訴人即被告滕家龍犯傷害罪部分，處有期徒刑4月，如<abbr class=\"termhover\" id=\"%e6%98%93%e7%a7%91%e7%bd%b0%e9%87%91\" rel=\"M\">易科<abbr class=\"termhover\" id=\"%e7%bd%b0%e9%87%91\" rel=\"M\">罰金</abbr></abbr>，以新臺幣（下同）1,000元折算1日；犯殺人罪部分，處有期徒刑15年；就被訴傷害周筠筠部分，為公訴<abbr class=\"termhover\" id=\"%e4%b8%8d%e5%8f%97%e7%90%86%e5%88%a4%e6%b1%ba\" rel=\"M\">不受理判決</abbr>後，檢察官及被告均僅針對殺人罪部分提起上訴（見本院111年度上訴字第3722號卷【下稱前審卷】第55至56頁、第69至70頁），是依刑事訴訟法第<span ref=\"style\" style=\"padding: 0px; display: inline;\">348</span>條第1項規定，本院僅就原判決關於殺人罪部分為審理，其餘部分則均已確定，而不在本院<span ref=\"style\" style=\"padding: 0px; display: inline;\">審理範圍，</span>先予敘明。</div><div id=\"pasted_paragraph_1709705178988W_6804137\" style=\"text-align: justify; text-indent: -48px; padding-left: 48px;\">貳、<span ref=\"style\" style=\"padding: 0px; display: inline;\"><abbr class=\"termhover\" id=\"%e8%ad%89%e6%93%9a\" rel=\"M\">證據</abbr>能力</span>部分：</div><div id=\"pasted_paragraph_1709705178988X_4048469\" style=\"text-align: justify; text-indent: -48px; padding-left: 48px;\">一、本判決所引用被告以外之人於審判外之陳述以及其他書面陳述，雖均屬<abbr class=\"termhover\" id=\"%e5%82%b3%e8%81%9e%e8%ad%89%e6%93%9a\" rel=\"M\">傳聞證據</abbr>，惟<abbr class=\"termhover\" id=\"%e7%95%b6%e4%ba%8b%e4%ba%ba\" rel=\"M\">當事人</abbr>於本院審理時就<span ref=\"style\" style=\"padding: 0px; display: inline;\"><abbr class=\"termhover\" id=\"%e8%ad%89%e6%93%9a%e8%83%bd%e5%8a%9b\" rel=\"M\">證據能力</abbr></span>部分均表示無意見而不予爭執（見更審卷第102至109頁、第282頁、第398至406頁），並<abbr class=\"termhover\" id=\"%e8%bf%84\" rel=\"M\">迄</abbr>至<abbr class=\"termhover\" id=\"%e8%a8%80%e8%a9%9e%e8%be%af%e8%ab%96\" rel=\"M\">言詞<abbr class=\"termhover\" id=\"%e8%be%af%e8%ab%96\" rel=\"M\">辯論</abbr></abbr>終結前，當事人知悉有刑事訴訟法第159條第1項不得為證據之情形，<abbr class=\"termhover\" id=\"%e7%8c%b6\" rel=\"M\">猶</abbr>未再<abbr class=\"termhover\" id=\"%e8%81%b2%e6%98%8e%e7%95%b0%e8%ad%b0\" rel=\"M\">聲明異議</abbr>，本院<abbr class=\"termhover\" id=\"%e5%af%a9%e9%85%8c\" rel=\"M\">審酌</abbr>該等證據資料製作時之情況，並無違法不當及<abbr class=\"termhover\" id=\"%e8%ad%89%e6%98%8e%e5%8a%9b\" rel=\"M\">證明力</abbr>明顯過低之瑕疵，且與本案<abbr class=\"termhover\" id=\"%e5%be%85%e8%ad%89%e4%ba%8b%e5%af%a6\" rel=\"M\">待證事實</abbr>具有關聯性，認為以之作為證據，應屬<abbr class=\"termhover\" id=\"%e9%81%a9\" rel=\"M\">適</abbr>當，依刑事訴訟法第159條之5規定，認均有<span ref=\"style\" style=\"padding: 0px; display: inline;\">證據能力</span>。</div><div id=\"pasted_paragraph_1709705178988Y_8749256\" style=\"text-align: justify; text-indent: -48px; padding-left: 48px;\">二、本判決所引用之非<abbr class=\"termhover\" id=\"%e4%be%9b%e8%bf%b0%e8%ad%89%e6%93%9a\" rel=\"M\">供述證據</abbr>，無<abbr class=\"termhover\" id=\"%e5%82%b3%e8%81%9e%e6%b3%95%e5%89%87\" rel=\"M\">傳聞法則</abbr>之適用，並因均與本案待證事實具有關聯性，且查無證據證明係實施刑事訴訟程序之公務員違背法定程序所取得，亦無刑事訴訟法第<span ref=\"style\" style=\"padding: 0px; display: inline;\">159條之4</span><abbr class=\"termhover\" id=\"%e9%a1%af%e6%9c%89\" rel=\"M\">顯有</abbr>不可信之情況與不得作為證據之情形，復經本院依法踐行調查證據程序，認均有<span ref=\"style\" style=\"padding: 0px; display: inline;\">證據能力</span>，而得採為判決之基礎。</div><div id=\"pasted_paragraph_1709705178988Z_6284721\" style=\"text-align: justify; text-indent: -48px; padding-left: 48px;\">乙、實體部分：</div><div id=\"pasted_paragraph_1709705178988a_1868005\" style=\"text-align: justify; text-indent: -48px; padding-left: 48px;\">壹、認定犯罪事實所憑之證據及理由：</div><div id=\"pasted_paragraph_1709705178988b_5859503\" style=\"text-indent: -48px; padding-left: 48px;\"><span ref=\"style\" style=\"text-align: justify; display: inline;\">一、上開事實，<abbr class=\"termhover\" id=\"%e6%a5%ad%e6%93%9a\" rel=\"M\">業據</abbr>被告於原審及本院審理時均<abbr class=\"termhover\" id=\"%e5%9d%a6%e6%89%bf%e4%b8%8d%e8%ab%b1\" rel=\"M\">坦承不諱</abbr>（見原審卷二第199頁、</span>前審卷第118頁、第325頁、更審卷第282頁），<span ref=\"style\" style=\"text-align: justify; display: inline;\">核與<abbr class=\"termhover\" id=\"%e8%ad%89%e4%ba%ba\" rel=\"M\">證人</abbr>即<abbr class=\"termhover\" id=\"%e5%91%8a%e8%a8%b4\" rel=\"M\">告訴</abbr>人徐嘉呈於警詢及偵訊之證述（見新北地檢署110年度偵47827卷【下稱偵47827卷】第65至73頁、第167至171頁；新北地檢署110年度相字第1632號卷【下稱<abbr class=\"termhover\" id=\"%e7%9b%b8%e9%a9%97\" rel=\"M\">相驗</abbr>卷】第33至35頁）、證人即被告之友人葉承璋、許睿祥、客人周筠筠分別於警詢及偵訊之證述（見偵47827卷第235至250頁、第313至321頁）、證人即ENJOY酒吧服務人員陳加安、游雅鈞、王品潔、酒吧客人劉力德分別於警詢之證述（見偵47827卷第91至94頁、第99至105頁、原審卷一第259至263頁、第279至283頁、第299至303頁）情節大致相符，並有勘察採證同意書、新北市政府警察局受採集尿液檢體人姓名及檢體編號對照表、台灣檢驗科技股份有限公司110年12月17日濫用藥物檢驗報告、天主教永和耕莘醫院乙種診斷證明書（包含被害人曾嘉毅及徐嘉呈）、永和分局偵查隊員警郭柏聰110年12月6日的職務報告、新北市政府警察局永和分局111年2月8日新北警永刑字第1114184354號函<abbr class=\"termhover\" id=\"%e6%9a%a8\" rel=\"M\">暨</abbr>所附現場勘察報告（內含現場照片、勘察採證同意書、證物清單、<abbr class=\"termhover\" id=\"%e5%88%91%e4%ba%8b%e6%a1%88%e4%bb%b6\" rel=\"M\">刑事案件</abbr>證物採驗紀錄表、鑑驗書）、店內現場圖、店外現場圖、現場照片、監視錄影器翻拍照片及光碟、被害人傷勢照片、被告所攜帶之折疊刀款式照片、新北地檢署勘（相）驗筆錄、解剖筆錄、檢驗報告書、相驗屍體證明書、相驗照片、法務部法醫研究所110年醫鑑字第1101103182號解剖報告書暨<abbr class=\"termhover\" id=\"%e9%91%91%e5%ae%9a\" rel=\"M\">鑑定</abbr>報告書、原審<abbr class=\"termhover\" id=\"%e5%8b%98%e9%a9%97\" rel=\"M\">勘驗</abbr>筆錄及附件、新北市政府警察局道路交通事故當事人酒精測定紀錄表、亞東紀念醫院（下稱亞東醫院）111年5月13日精神鑑定報告等證據<abbr class=\"termhover\" id=\"%e5%8f%af%e8%b3%87%e4%bd%90%e8%ad%89\" rel=\"M\">可資<abbr class=\"termhover\" id=\"%e4%bd%90%e8%ad%89\" rel=\"M\">佐證</abbr></abbr>（見偵47827卷第45至51頁、第83頁、第165頁、第233頁、第255至282頁、第293頁、相驗卷第71頁、第73頁、第79至91頁、第95頁、第109至151頁、第155至166頁、第173至177頁、原審卷一第175至245頁、第323至325頁、第345頁、第351至363頁）。</span>\\xa0</div><div id=\"pasted_paragraph_1709705178988c_4383057\" style=\"text-indent: -48px; padding-left: 48px;\">二、被害人係遭被告持折疊刀砍殺，造成大量出血及血胸而死亡：</div><div id=\"pasted_paragraph_1709705178988d_198246\" style=\"text-indent: -48px; padding-left: 48px;\">\\xa0 ㈠法務部法醫研究所對被害人進行死因解剖鑑定，認被害人所受傷勢有：⑴左外側頸部皮下組織、肌肉組織銳器傷。⑵左側鎖骨區1處呈左高右低斜向銳器傷（左外側頸部）。⑶左肺上葉銳器刺穿傷，左肺塌陷。左側後第2肋骨淺層銳器傷。⑷左肺肋膜腔內有大量出血及血塊，量約850毫升。⑸肚臍下方1處斜向銳器傷，傷及皮下脂肪層及脂肪組織外露。⑹左外側腹部1處銳器刺入傷，造成腸道往外溢出。⑺左側腹股溝1處銳器傷，刺傷肌肉組織。⑻恥骨上方1處接近橫向銳器傷。⑼胃內少量深褐色液體，量約50毫升，胃內膜蒼白狀。⑽小腸銳器傷，空腸銳器傷及貫穿，下結腸銳器傷。⑾左手部第3、4、5指銳器傷。⑿右手肘及右手背局部瘀傷。⒀左手肘及左前臂局部瘀傷，左手背多處瘀傷。⒁右大腿外側局部瘀傷。</div><div id=\"pasted_paragraph_1709705178988e_4052082\" style=\"text-indent: -48px; padding-left: 48px;\">\\xa0 ㈡<span ref=\"style\" style=\"text-align: justify; display: inline;\">法務部法醫研究所鑑定意見就被害人死亡經過研判及鑑定結果<abbr class=\"termhover\" id=\"%e7%95%a5%e4%bb%a5\" rel=\"M\">略以</abbr>：死者生前遭人持銳器刺傷，導致腹部多處銳器傷，共約4處銳器傷及左手部第3、4、5指防禦銳器傷，主要因為左側鎖骨區的銳器傷刺傷左側鎖骨下動脈及左肺，導致死者大量出血及血胸而死亡，死亡方式歸類為「他殺」。</span><span ref=\"style\" style=\"text-align: justify; display: inline;\">此有法務部法醫研究所（110）醫鑑字第1101103182號解剖報告書暨鑑定報告書附卷<abbr class=\"termhover\" id=\"%e5%8f%af%e4%bd%90\" rel=\"M\">可佐</abbr>（見相驗卷第155至166頁）。</span></div><div id=\"pasted_paragraph_1709705178988f_8973827\" style=\"text-indent: -48px; padding-left: 48px;\">\\xa0 ㈢<span ref=\"style\" style=\"text-align: justify; display: inline;\">綜合上情，<abbr class=\"termhover\" id=\"%e5%a0%aa\" rel=\"M\">堪</abbr>認被告係持折疊刀持續朝被害人之腹部及胸口揮砍、刺擊</span><span ref=\"style\" style=\"text-align: justify; display: inline;\">，造成被害人受有左側鎖骨區1處銳器傷、左側鎖骨下動脈銳器傷出血、左肺上葉銳器貫穿傷、左肺塌陷、左側血胸、腹部3處銳器傷、左外側腹部銳器傷刺入腹腔及腸道、腸道外溢、左手部銳器傷等傷害，並因大量出血及血胸而死亡，</span><span ref=\"style\" style=\"text-align: justify; display: inline;\">足認被告砍殺被害人之行為，與被害人死亡之結果間，有相當<abbr class=\"termhover\" id=\"%e5%9b%a0%e6%9e%9c%e9%97%9c%e4%bf%82\" rel=\"M\">因果關係</abbr>，且更可見被告行為時致被害人死亡意志之堅定，主觀上有殺人之<abbr class=\"termhover\" id=\"%e7%9b%b4%e6%8e%a5%e6%95%85%e6%84%8f\" rel=\"M\">直接<abbr class=\"termhover\" id=\"%e6%95%85%e6%84%8f\" rel=\"M\">故意</abbr></abbr>至明。</span></div><div id=\"pasted_paragraph_1709705178988g_7210509\" style=\"text-indent: -48px; padding-left: 48px;\">\\xa0 ㈣<span ref=\"style\" style=\"text-align: justify; display: inline;\">綜上證據相互<abbr class=\"termhover\" id=\"%e5%8f%83%e9%85%8c\" rel=\"M\">參酌</abbr>，足認被告前揭出於任意性之<abbr class=\"termhover\" id=\"%e8%87%aa%e7%99%bd\" rel=\"M\">自白</abbr>確與事實相符。本件事證明確，被告殺害被害人之<abbr class=\"termhover\" id=\"%e7%8a%af%e8%a1%8c\" rel=\"M\">犯行</abbr>足以認定，應予<abbr class=\"termhover\" id=\"%e4%be%9d%e6%b3%95%e8%ab%96%e7%a7%91\" rel=\"M\">依法論科</abbr>。</span></div><div id=\"pasted_paragraph_1709705178988h_8056530\" style=\"text-indent: -48px; padding-left: 48px;\"><span ref=\"style\" style=\"text-align: justify; display: inline;\">貳、論罪<abbr class=\"termhover\" id=\"%e7%a7%91%e5%88%91\" rel=\"M\">科刑</abbr>及撤銷改判之說明：</span></div><div id=\"pasted_paragraph_1709705178988i_7288021\" style=\"text-indent: -48px; padding-left: 48px;\"><span ref=\"style\" style=\"text-align: justify; display: inline;\">一、論罪:</span></div><div id=\"pasted_paragraph_1709705178989j_3914696\" style=\"padding-left: 48px; text-indent: -48px;\">\\u3000\\u3000<span ref=\"style\" style=\"text-align: justify; display: inline;\">核被告所為，係犯刑法第271條第1項之殺人罪。又被告原先基於傷害犯意徒手毆打被害人，嗣將犯意提昇為殺人故意，應從變更後之殺人罪論處。</span></div><div id=\"pasted_paragraph_1709705178989k_5604553\" style=\"text-indent: -48px; padding-left: 48px;\">二、<span ref=\"style\" style=\"text-align: justify; display: inline;\">刑之加重減輕部分：</span></div><div id=\"pasted_paragraph_1709705178989l_6889212\" style=\"text-indent: -48px; padding-left: 48px;\">\\xa0 ㈠不適用刑法第47條之說明：</div><div id=\"pasted_paragraph_1709705178989m_1768765\" style=\"text-indent: -48px; padding-left: 48px;\">\\xa0 ⒈<span ref=\"style\" style=\"text-align: justify; display: inline;\">被告前因<abbr class=\"termhover\" id=\"%e5%85%ac%e5%85%b1%e5%8d%b1%e9%9a%aa%e6%a1%88%e4%bb%b6\" rel=\"M\">公共危險案件</abbr>，經<abbr class=\"termhover\" id=\"%e5%8e%9f%e5%af%a9%e6%b3%95%e9%99%a2\" rel=\"M\">原審法院</abbr>以109年度交簡字第1663號判處有期徒刑2月確定，於110年1月4日易科罰金執行完畢，有本院被告<abbr class=\"termhover\" id=\"%e5%89%8d%e6%a1%88%e7%b4%80%e9%8c%84%e8%a1%a8\" rel=\"M\">前案紀錄表</abbr>附卷<abbr class=\"termhover\" id=\"%e5%8f%af%e6%8c%89\" rel=\"M\">可按</abbr>（見更審卷第38頁），其於受有期徒刑執行完畢後，5年以內故意再犯本案有期徒刑以上之罪，固為<abbr class=\"termhover\" id=\"%e7%b4%af%e7%8a%af\" rel=\"M\">累犯</abbr>。</span><span ref=\"style\" style=\"text-align: justify; display: inline;\">依司法院釋字第775號解釋意旨，為避免發生罪刑不相當之情形，仍應於個案具體審認被告有無特別惡性及對刑罰反應力薄弱之情，而斟酌裁量是否應依刑法第47條第1項規定，<abbr class=\"termhover\" id=\"%e5%8a%a0%e9%87%8d%e5%85%b6%e5%88%91\" rel=\"M\">加重其刑</abbr>。</span></div><div id=\"pasted_paragraph_1709705178989n_1600027\" style=\"text-indent: -48px; padding-left: 48px;\">\\xa0 ⒉<span ref=\"style\" style=\"text-align: justify; display: inline;\">本院審酌被告構成<span ref=\"style\" style=\"padding: 0px; display: inline;\">累犯</span>之前案為公共危險罪（駕駛<abbr class=\"termhover\" id=\"%e5%8b%95%e5%8a%9b%e4%ba%a4%e9%80%9a%e5%b7%a5%e5%85%b7\" rel=\"M\">動力交通工具</abbr>而吐氣所含酒精濃度達每公升0.25毫克以上罪），保護<abbr class=\"termhover\" id=\"%e6%b3%95%e7%9b%8a\" rel=\"M\">法益</abbr>主要係著重於保護<abbr class=\"termhover\" id=\"%e5%85%ac%e7%9c%be\" rel=\"M\">公眾</abbr>用路安全，與本案所犯之殺人罪，不論就犯罪類型、侵害法益與罪質，均有不同，尚不能僅以被告因上開前案而於本件構成累犯，即認其對於本案犯行具有特別惡性及對於刑罰反應力薄弱之情形。考量本案情節、被告之主觀惡性、危害程度及<abbr class=\"termhover\" id=\"%e7%bd%aa%e5%88%91%e7%9b%b8%e7%95%b6%e5%8e%9f%e5%89%87\" rel=\"M\">罪刑相當原則</abbr>，爰不依前揭規定加重其刑。</span></div><div id=\"pasted_paragraph_1709705178989o_4373788\" style=\"text-indent: -48px; padding-left: 48px;\">\\xa0 ㈡<span ref=\"style\" style=\"text-align: justify; display: inline;\">被告於行為時，被告辨識行為違法之能力（即<abbr class=\"termhover\" id=\"%e8%be%a8%e8%ad%98%e8%83%bd%e5%8a%9b\" rel=\"M\">辨識能力</abbr>），及依其辨識而行為之能力（即控制能力），有顯著降低情形，應依刑法第19條第2項規定減輕其刑：</span></div><div id=\"pasted_paragraph_1709705178989p_7757069\" style=\"text-indent: -48px; padding-left: 48px;\">\\xa0 ⒈<span ref=\"style\" style=\"text-align: justify; display: inline;\">按行為時因<abbr class=\"termhover\" id=\"%e7%b2%be%e7%a5%9e%e9%9a%9c%e7%a4%99\" rel=\"M\">精神障礙</abbr>或其他心智缺陷，致不能辨識其行為違法或欠缺依其辨識而行為之能力者，<abbr class=\"termhover\" id=\"%e4%b8%8d%e7%bd%b0\" rel=\"M\">不罰</abbr>。行為時因前項之原因，致其辨識行為違法或依其辨識而行為之能力，顯著減低者，得減輕其刑，刑法第19條第1項、第2項定有明文。刑法第19條有關行為<abbr class=\"termhover\" id=\"%e5%88%91%e4%ba%8b%e8%b2%ac%e4%bb%bb%e8%83%bd%e5%8a%9b\" rel=\"M\">刑事<abbr class=\"termhover\" id=\"%e8%b2%ac%e4%bb%bb%e8%83%bd%e5%8a%9b\" rel=\"M\">責任能力</abbr></abbr>之規定，係指行為人於行為時，因精神障礙或其他心智缺陷之生理原因，致其辨識行為違法之能力（辨識能力）或依其辨識而行為之能力（控制能力），因而不能、欠缺或顯著減低之心理結果者而言。是關於犯罪行為人刑事責任能力之判斷，應以行為人理解<abbr class=\"termhover\" id=\"%e6%b3%95%e5%be%8b\" rel=\"M\">法律</abbr>規範，認知、辨識行為違法之意識能力，及依其認知而為行為之控制能力二者，為關鍵指標；且刑事責任能力之有無，應本諸「責任能力與行為同時存在原則」，依行為時之精神狀態定之。另行為人是否有足以影響意識能力與控制能力之精神障礙或其他心智缺陷等生理原因，因事涉醫療專業，必要時固得委諸於醫學專家之鑑定，然該等生理原因之存在，是否已致使行為人意識能力與控制能力有刑法第19條所規定得據以不罰或減輕其刑之欠缺或顯著減低<abbr class=\"termhover\" id=\"%e7%ad%89%e6%83%85\" rel=\"M\">等情</abbr>形，既依犯罪行為時狀態定之，自應由法院本其調查證據之結果，加以判斷，亦即，行為人之是非辨識或行為控制能力是否全然欠缺，抑或係顯著減低之判斷標準，應在於行為人是否因上開生理上之原因而喪失或減損其社會判斷力。所謂對於外界事務之知覺理會及判斷作用，殊非指生理之知覺意識能力，而係指心理上對外溝通感受與內在意欲控制之能力，如已全然缺乏知覺理會及判斷作用，而無自由決定意思之能力者，為<abbr class=\"termhover\" id=\"%e5%bf%83%e7%a5%9e%e5%96%aa%e5%a4%b1\" rel=\"M\">心神喪失</abbr>，如此項能力並非完全喪失，僅較普通人之平均程度顯然減退者，則為<abbr class=\"termhover\" id=\"%e7%b2%be%e7%a5%9e%e8%80%97%e5%bc%b1\" rel=\"M\">精神耗弱</abbr>，從而，並非行為人一有「精神障礙或其他心智缺陷」之情形，即當然符合不罰、得減輕其刑之規定，且行為人於行為之際是否確有不能辨識其行為違法之能力或辨識能力顯著降低，應由法院依據行為當時所有之客觀狀態及行為之每一細節（例如：行為前、中及後之反應狀態）等綜合判斷之（最高法院</span>26年渝上字第237<span ref=\"style\" style=\"text-align: justify; display: inline;\">號、</span>99年度台上字第2311<span ref=\"style\" style=\"text-align: justify; display: inline;\">號、</span>101年度台上字第122<span ref=\"style\" style=\"text-align: justify; display: inline;\">號、</span>108年度台上字第940<span ref=\"style\" style=\"text-align: justify; display: inline;\">號判決意旨<abbr class=\"termhover\" id=\"%e5%8f%83%e7%85%a7\" rel=\"M\">參照</abbr>）。</span></div><div id=\"pasted_paragraph_1709705178989q_8817239\" style=\"text-indent: -48px; padding-left: 48px;\">\\xa0 ⒉<span ref=\"style\" style=\"text-align: justify; display: inline;\">被告行為之辨識能力及控制能力，因其飲酒、施用愷他命之故，陷於「酒精與愷他命中毒」狀態而顯著減低：</span></div><div id=\"pasted_paragraph_1709705178989r_1069659\" style=\"text-indent: -48px; padding-left: 48px;\">\\xa0 ⑴<span ref=\"style\" style=\"text-align: justify; display: inline;\">查</span><span ref=\"style\" style=\"text-align: justify; display: inline;\">被告於110年12月6日8時26分許（離案發時間已有約6小時間隔）經警測定呼氣酒精濃度，數值為0.36mg/L，此有新北市政府警察局道路交通事故當事人酒精測定紀錄表附卷<abbr class=\"termhover\" id=\"%e5%8f%af%e5%8f%83\" rel=\"M\">可參</abbr>（見偵47827卷第47頁）。</span><span ref=\"style\" style=\"text-align: justify; display: inline;\">被告另於同日5時31分經警採尿送鑑驗後，呈現愷他命類陽性反應，有新北市政府警察局受採集尿液檢體人姓名及檢體編號對照表、臺灣檢驗科技股份有限公司110年12月17日濫用藥物檢驗報告附卷可佐（見偵47827卷第49頁、第293頁）。</span></div><div id=\"pasted_paragraph_1709705178989s_6214637\" style=\"text-indent: -48px; padding-left: 48px;\">\\xa0 ⑵<span ref=\"style\" style=\"text-align: justify; display: inline;\">被告於110年12月6日偵訊時稱：我於000年00月0日生日當天有去ENJOY酒吧喝酒，國小同學許睿祥、葉承璋幫我慶生，我有攜帶折疊刀到酒吧，我平常就會帶著防身，我因為喝多了，我對於許睿祥、葉承璋有無目擊案發經過沒有印象等語（見偵47827卷第177至181頁）；於111年1月17日警詢時稱：我攜帶折疊刀去酒吧是為了防身，對於當天的事情，我喝太多已經記憶斷片了等語（見偵47827卷第221至231頁）；於111年1月25日偵訊時稱：我16歲時曾經被別人押到河堤邊打，之後我就會帶折疊刀防身等語（見偵47827卷第305頁）；於111年1月28日原審中陳稱：案發當天，我先在好樂迪喝了百威啤酒，到了酒吧我除了喝百威啤酒外，還有喝蘇格登（威士忌酒）等語（見原審卷一第43頁）；於111年2月10日原審時稱：我12月6日生日，在12月5日晚上8點我就先到中和南勢角的好樂迪，當時有其他朋友幫我慶生，我當時已經喝了很多，後面11、12點多我到「ENJOY酒吧」，我也喝了百威啤酒，還喝了蘇格登，然後就混酒喝，我大概在案發前5分鐘施用了愷他命，施用前我跟對方還沒有發生肢體衝突，我知道飲酒、施用毒品會導致情緒、身體、意識等控制能力降低，甚至導致記憶力、認知能力衰退等語（見原審卷一第98至100頁）；於111年5月30日原審時稱：我對於喝酒會導致自身控制、理解能力減弱沒有意見，也對施用愷他命會影響協調、判斷能力沒有意見，我過去曾犯公共危險罪，判決有說明喝酒對於意識能力有不良影響，我對於我過去有數次傷害的前科紀錄沒有意見等語（見原審卷二第72至76頁）；於前審時稱：我對當天的記憶都是片段，很多事情我都是看監視器才知道，我於110年12月5日晚上8點多先在好樂迪喝酒，喝到快12點就去酒吧繼續喝，110年12月6日凌晨2點多在酒吧時，對方嫌我們吵，但我們沒有理他，且當天是我生日，我沒有要跟對方起衝突的意思，我就去外面的車上吸愷他命，吸的時間及數量我忘記了，吸完再回到酒吧內，沒多久就打起來等語（見前審卷第128頁、第326頁），對於案發經過表示僅有部分記憶等情前後陳述大致相符。</span></div><div id=\"pasted_paragraph_1709705178989t_5809041\" style=\"text-indent: -48px; padding-left: 48px;\">\\xa0 ⑶<span ref=\"style\" style=\"text-align: justify; display: inline;\">另參以</span><span ref=\"style\" style=\"text-align: justify; display: inline;\">葉承璋於警詢證稱：一開始隔壁桌就是坐著被害人與徐嘉呈，他們覺得我們太吵，一直碎碎念，我就跟許睿祥、被告出去店外抽菸，後來被告接到電話，對話內容好像是店員說被害人與徐嘉呈看不起他們店內店員，許睿祥就跟被告進去店內看，我待在車上沒有下車等語（見偵47827卷第236至237頁）。</span><span ref=\"style\" style=\"text-align: justify; display: inline;\">許睿祥於警詢證稱：一開始隔壁桌就是坐著被害人與徐嘉呈，他們覺得我們太吵，一直碎碎念，我就跟葉承璋、被告出去店外抽菸，後來被告接到電話，電話內容說什麼店員看不起他們，我就跟被告進去店內看，然後被告跟對方對到眼就起口角，後來就大打出手等語（見偵47827卷第240頁）；於偵訊證稱：被告接到電話，對方說看不起他們，我就跟被告進去酒吧，大家對看，就有點小口角，突然就打起來等語（見偵47827卷第315頁）。</span><span ref=\"style\" style=\"text-align: justify; display: inline;\">周筠筠於警詢證稱：事發前我跟游雅鈞在店外聊天，然後該店綽號「安安」的服務人員出來找我跟游雅鈞說，被告跟當時在場別桌的酒客吵起來了，好像準備要鬧事，然後我跟游雅鈞進店後，游雅鈞上前與該鬧事的2名酒客說不要這麼激動，但那2名酒客就對店內服務人員大小聲，結果被告跟該2名酒客進而開始拉扯，張祐誠上前勸架，並將該2名酒客推到店外面後，我就去店內2樓報警，報完警我下樓後，看到該2名酒客準備從店外往店內衝，並上前毆打張祐誠，我跟游雅鈞見狀，便上前將2名鬧事的酒客拉開，結果被告又走出店外，對方見狀遂上前打被告還有一個我不認識的男子等語（見偵47827卷第246至247頁）；<abbr class=\"termhover\" id=\"%e5%be%a9%e6%96%bc\" rel=\"M\">復於</abbr>偵查中證稱：我是ENJOY酒吧的客人，那天ENJOY酒吧老闆身體不舒服去掛急診，有交代我們顧店，我之前在ENJOY酒吧上班，我跟朋友就去外面聊天，吧檯服務員說有客人喝醉，是徐嘉呈喝醉，酒吧老闆說要不要請徐嘉呈回家休息，徐嘉呈就兇吧檯服務員，類似喝完酒發脾氣說看不起他，作勢要打吧檯員工，被害人本來要把徐嘉呈帶走，徐嘉呈不走，後來被告跟徐嘉呈就發生衝突，雙方就打起來，我就打電話給酒吧老闆，老闆才趕回來，一開始大家都在勸架，我不知道為何打起來，大家都有動手，一開始被告在生氣，我們跟他講後，被告脾氣就壓下來，我們就把被害人、徐嘉呈擋在外面，但被害人、徐嘉呈想要衝進店內繼續打架，是被害人、徐嘉呈把我朋友推倒，壓在地上打，<abbr class=\"termhover\" id=\"%e5%8e%9f%e6%9c%ac\" rel=\"M\">原本</abbr>我朋友是去勸架的，我跟另外一個女生就把被害人、徐嘉呈拉開，我跟那女生就被推倒，後來被告與被害人、徐嘉呈就打起來，我有看到被告額頭流血受傷，但我聽其他人說是被酒瓶砸的等語（見偵47827卷第317至319頁）。</span></div><div id=\"pasted_paragraph_1709705178991u_7574821\" style=\"text-indent: -48px; padding-left: 48px;\">\\xa0 ⑷<span ref=\"style\" style=\"text-align: justify; display: inline;\">綜合上開證人之<abbr class=\"termhover\" id=\"%e8%ad%89%e8%a8%80\" rel=\"M\">證言</abbr>可知，被告與葉承璋、許睿祥於110年12月6日凌晨在ENJOY酒吧內，原本是坐在被害人、徐嘉呈的鄰桌，但被害人、徐嘉呈覺得被告與葉承璋、許睿祥太吵，被告與葉承璋、許睿祥便出去外面抽菸（被告亦有施用愷他命）。後來徐嘉呈喝醉，酒吧人員請徐嘉呈回家休息，要幫徐嘉呈和被害人結帳，徐嘉呈就和吧檯人員發脾氣，並作勢要打吧檯人員，吧檯人員打電話將上情告訴在店外的被告，被告與許睿祥要走進店內的時候，被害人、徐嘉呈正要離開走出店外，雙方因此起口角後發生衝突，經酒吧人員勸架隔離。之後被害人、徐嘉呈復進入酒吧內又起衝突，最後則發生被害人死亡情事，由葉承璋、許睿祥之證述可知，被告與葉承璋、許睿祥確有聲音過大遭嫌之情事，方會走出店外抽菸、施用愷他命。至於後來徐嘉呈雖與吧檯人員發生口角，但僅是徐嘉呈與吧檯人員間之事，與被告並無關聯，即便有人打電話通知被告，僅因當時店長不在，而打電話給在店外之熟識客人即被告，但並非要被告動手。不料，被告仍與被害人、徐嘉呈發生衝突，復因案發時被告與周筠筠並無怨隙，卻同遭被告刺傷，因而受有左前臂撕裂傷併肌肉受損、背部撕裂傷之傷害，業據周筠筠於偵訊時證述明確（見偵47827卷第319頁），並有衛生福利部雙和醫院110年12月22日診斷證明書（乙種）附卷可佐（見新北地檢署111年度偵字第5298號卷第17頁），若非被告之辨識能力及控制能力已有顯著減弱，當不會傷及周筠筠，足見</span><span ref=\"style\" style=\"text-align: justify; display: inline;\">被告係因服用酒精及施用愷他命後，造成衝動控制不佳，其部分認知理解能力及精神狀態有受到精神障礙之影響。又</span><span ref=\"style\" style=\"text-align: justify; display: inline;\">其認知理解能力雖受影響，但仍能有自由意識控制其行為，而事後被告對於持刀砍人會致死乙事，可以辨識其後果，可認其對於辨別事物、是非善惡之能力，即認識其殺人行為為法所不許之辨識能力，及不為違法行為之控制能力，非全然喪失，僅較一般人有明顯減低。</span></div><div id=\"pasted_paragraph_1709705178991v_7912446\" style=\"text-indent: -48px; padding-left: 48px;\">\\xa0 ⑸<span ref=\"style\" style=\"text-align: justify; display: inline;\">關於被告行為時是否確有精神障礙，原審經徵詢</span><span ref=\"style\" style=\"text-align: justify; display: inline;\">檢察官、被告及辯護人之意見後（見原審卷一第101頁），將被告送請亞東醫院為精神鑑定，</span><span ref=\"style\" style=\"text-align: justify; display: inline;\">經該院依被告之個案史（包含生活史及病史）、鑑定過程精神狀態檢查、心理衡鑑報告等，鑑定意見及結果略以（見原審卷二第57至65頁）：</span></div><div id=\"pasted_paragraph_1709705178991w_3081604\" style=\"text-indent: -48px; padding-left: 48px;\">\\xa0 ①心理衡鑑部分：被告整體認知功能屬於中下程度，全量表智商=82，衡鑑過程中，被告回應速度快速，配合度佳，然多衝動表現。由心理衡鑑結果顯示，被告整體認知功能屬於中下程度。</div><div id=\"pasted_paragraph_1709705178991x_2068776\" style=\"text-align: justify; text-indent: -48px; padding-left: 48px;\">\\xa0 ②據被告的說詞，被告於案發前一晚已經引用數瓶百威啤酒，案發日凌晨0時至酒吧後，又飲用啤酒、半瓶蘇格登威士忌，以及一小杯（shot）的伏特加酒，同日凌晨2點24分左右案件發生，早上8時測得酒精吐氣濃度每公升0.36毫克。被告自述因飲酒、吸食ketamine（即愷他命）後，又遭被害人以酒瓶敲擊頭部，因此之後案情細節皆忘記。查一般公認以吐氣酒精濃度換算血液濃度約為1：2000，若依此公式計算，被告於當日早上8時26分許，測得酒精呼氣濃度為每公升0.36毫克，換算為血液濃度為每百毫升0.072克。根據文獻（精神科教科書Synopsis of Psychiatry第11版，第627頁）人體酒精代謝速度平均為每小時每百毫升0.015克，代謝範圍從每百毫升0.010克至0.034克皆有可能，個體差異極大。案發時離被告酒測約6小時，回推被告於案發時其酒精濃度約從每百毫升0.132（0.132%）至0.276克（0.276%）皆有可能，平均為每百毫升0.162克（0.162%）。根據文獻顯示（https：//americanaddictioncenters.org/ketamine-abuse/mixing-alcohol），人體在酒精濃度0.2%時腦部的功能會受到壓抑，包括腦部的情緒、衝動控制區域，至0.3%時就有可能呈現意識迷茫（Confused）、木僵（stupor）的表現。長期飲用酒精的人，一般代謝速度會較快，對於酒精的耐受程度也比較高，以至於他們以為自己沒有那麼醉。被告在案發時除了飲酒，還有吸食ketamine，兩者混用會造成更加迷醉與記憶形成困難（順行性失憶），因此被告在案發後失去記憶可能為ketamine與酒精之加成效果。</div><div id=\"pasted_paragraph_1709705178991y_8176626\" style=\"text-align: justify; text-indent: -48px; padding-left: 48px;\">\\xa0 ③根據本次鑑定之晤談與電話訪談被告父親收集之資料，被告除物質濫用外並無重大精神疾病。根據被告飲酒的狀態、吸食ketamine之事實與案發後測得之酒精濃度回溯推測，被告於案發時可能因為酒精與ketamine中毒造成之衝動控制不佳，使其知其行為為違法以及依其判斷而為行為之能力顯著減低。</div><div id=\"pasted_paragraph_1709705178991z_4869522\" style=\"text-indent: -48px; padding-left: 48px;\">\\xa0 ⑹<span ref=\"style\" style=\"text-align: justify; display: inline;\"><abbr class=\"termhover\" id=\"%e5%be%b5%e8%ab%b8\" rel=\"M\">徵諸</abbr><abbr class=\"termhover\" id=\"%e4%b8%8a%e6%8f%ad\" rel=\"M\">上揭</abbr>亞東醫院鑑定報告結論，認定被告於行為當時應已因受到物質（即酒精與愷他命）誘發致其精神障礙，其辨識行為違法、依其辨識而行為之能力均有顯著降低。與本院依全卷客觀事證認定被告於案發之精神狀態，均屬一致。</span></div><div id=\"pasted_paragraph_1709705178991A_5768543\" style=\"padding-left: 48px; text-indent: -48px;\">\\u3000⒊本院考量被告行為時應已因受到物質（即酒精與愷他命）誘發致其精神障礙，其辨識能力及控制能力均有顯著降低，又被告在衝突控制不佳之情形下，與被害人發生爭執，進而持折疊刀砍殺被害人，暨參酌被告於亞東醫院為精神鑑定時自述常覺得有壓力，也常睡不好，感到疲累，也容易發怒，且因110年10月與女友分手後就感到情緒不佳，幾乎每天飲酒，並自國中開始即曾施用毒品，之後斷斷續續不定期使用，只要心情煩悶就會施用愷他命，一周最少會施用2次，最多時天天施用，並持續施用迄今等情（見原審卷二第59頁），顯見服用酒精及施用毒品實係被告自願之選擇，<abbr class=\"termhover\" id=\"%e8%80%8c%e9%9d%9e\" rel=\"M\">而非</abbr>外力所致，整體認知功能屬於中下程度等一切情狀，為符罪責相當原則，爰依刑法第19條第2項規定<abbr class=\"termhover\" id=\"%e9%85%8c%e6%b8%9b%e5%85%b6%e5%88%91\" rel=\"M\">酌減其刑</abbr>。</div><div id=\"pasted_paragraph_1709705178991B_9394033\" style=\"padding-left: 48px; text-indent: -48px;\">\\u3000⒋本案並無刑法第19條第3項規定適用之說明：</div><div id=\"pasted_paragraph_1709705178991C_6315402\" style=\"padding-left: 48px; text-indent: -48px;\">\\u3000⑴按學理上之<abbr class=\"termhover\" id=\"%e5%8e%9f%e5%9b%a0%e8%87%aa%e7%94%b1%e8%a1%8c%e7%82%ba\" rel=\"M\">原因自由行為</abbr>，係指行為人因故意或過失使自己陷入精神障礙或心智缺陷狀態，而在此狀態下實行具備<abbr class=\"termhover\" id=\"%e6%a7%8b%e6%88%90%e8%a6%81%e4%bb%b6\" rel=\"M\">構成要件</abbr>該當且屬違法之行為。基於「行為與責任能力同時存在原則」之要求，原因自由行為之行為人在侵害法益的結果行為階段，既已陷入精神障礙或心智缺陷狀態，欠缺完全的責任能力，其<abbr class=\"termhover\" id=\"%e5%8f%af%e7%bd%b0%e6%80%a7\" rel=\"M\">可罰性</abbr>基礎<abbr class=\"termhover\" id=\"%e4%b9%83\" rel=\"M\">乃</abbr>在於，其於陷入精神障礙或心智缺陷狀態前之原因行為（如飲酒、藥物濫用等）階段，具備完全的責任能力，對於原因行為將造成精神障礙或心智缺陷狀態，及與之具有責任關聯之在上開狀態下實行法益侵害結果行為，主觀上有預見或得預見，其有不自陷於精神障礙或心智缺陷狀態，致生法益侵害結果行為之<abbr class=\"termhover\" id=\"%e6%9c%9f%e5%be%85%e5%8f%af%e8%83%bd%e6%80%a7\" rel=\"M\">期待可能性</abbr>，仍因故意或過失自陷於精神障礙或心智缺陷狀態，違反對己義務，而可受歸責，自應負擔如同完全責任者的刑責。倘行為人於原因行為階段，主觀上僅預見原因行為將造成精神障礙或心智缺陷狀態，而未能預見其將在上開狀態下實行法益侵害結果行為，縱於侵害法益的結果行為階段，實行具備構成要件該當且屬違法之行為，仍有刑法第19條第1項、第2項減免其刑規定之適用（最高法院112年度台上字第3064號判決意指參照）。</div><div id=\"pasted_paragraph_1709705178991D_2563107\" style=\"padding-left: 48px; text-indent: -48px;\">\\u3000⑵查被告於本案前雖曾於服役<abbr class=\"termhover\" id=\"%e6%9c%9f%e9%96%93\" rel=\"M\">期間</abbr>即108年6月11日起至同年8月5日止有至精神科就醫之紀錄，惟係因服役期間出現心情低落、焦慮、失眠等症狀始由部隊長官陪同就醫等情，此有國軍左營總醫院112年12年18日醫左民診字第1120012959號函暨病歷資料附卷可參（見更審卷第191至263頁），此外並無其他精神科就醫之紀錄，且本件係因服用酒精及施用毒品誘發致其精神障礙，已如前述，再依卷附本院被告前案紀錄表所示，被告過往雖有於服用酒精後因細故即傷害他人而經原審法院以108年度簡字第7700號判處罪刑確定（見原審卷二第91至94頁），然該次犯行係以徒手毆打被害人之方式，並非與本案係先後服用酒精、施用毒品後以折疊刀傷害、殺害他人之犯行，難認被告於服用酒精、施用毒品之際，尚未陷入精神障礙狀態前，即對<abbr class=\"termhover\" id=\"%e5%97%a3%e5%be%8c\" rel=\"M\">嗣後</abbr>陷於精神障礙狀態中之殺害被害人之犯行有故意或預見可能，故本件被告所為，並非原因自由行為，仍有刑法第19條第2項之減免其刑規定適用。</div><div id=\"pasted_paragraph_1709705178991E_354481\" style=\"padding-left: 48px; text-indent: -48px;\">三、撤銷改判之說明：</div><div id=\"pasted_paragraph_1709705178991F_2980319\" style=\"padding-left: 48px; text-indent: -48px;\">\\u3000㈠原審審理結果，以被告上揭所犯刑法第271條第1項之殺人之犯行罪證明確，固非無見。惟查：</div><div id=\"pasted_paragraph_1709705178991G_7761698\" style=\"padding-left: 48px; text-indent: -48px;\">\\u3000⒈被告行為時因精神障礙，致其辨識行為違法及依其辨識而行為之能力顯著降低，惟其尚未陷入精神障礙狀態前，未能對嗣後陷於精神障礙狀態中之殺害被害人之犯行有故意或預見可能，已如前述，原審未注意及此而未依刑法第19條第2項規定減輕其刑，即有未恰。</div><div id=\"pasted_paragraph_1709705178991H_5555821\" style=\"padding-left: 48px; text-indent: -48px;\">\\u3000⒉按折疊刀非屬槍砲彈藥刀械管制條例所規範之刀械，故攜帶折疊刀並未違法。又折疊刀之使用目的所在多有，不能認定隨身攜帶者，於發生衝突時必定會持之使用。故原判決以「被告自16歲起即隨身攜帶折疊刀防身，應可預見若與人發生衝突，可能因使用折疊刀而導致他人傷亡」，似認定被告隨身攜帶折疊刀之行為，即屬有傷害或殺人之故意，亦有未恰。</div><div id=\"pasted_paragraph_1709705178991I_4114821\" style=\"padding-left: 48px; text-indent: -48px;\">\\u3000⒊檢察官<abbr class=\"termhover\" id=\"%e4%b8%8a%e8%a8%b4%e6%84%8f%e6%97%a8\" rel=\"M\">上訴意旨</abbr>略以：被告於案發時具有完全之責任能力，且亞東醫院鑑定報告草率、欠缺依據，且原審量刑過輕。惟：</div><div id=\"pasted_paragraph_1709705178991J_1009500\" style=\"padding-left: 48px; text-indent: -48px;\">\\u3000⑴被告是否能清楚回憶案發前的爭執過程，應為被告記憶是否形成困難之問題（鑑定報告記載：「滕員在案發時除了飲酒，還有吸食愷他命，兩者混用會造成更加迷醉與記憶形成困難」、見原審卷二第63頁），尚難據此逕予反推被告行為時辨識能力及控制能力均與常人無異。</div><div id=\"pasted_paragraph_1709705178991K_2752042\" style=\"padding-left: 48px; text-indent: -48px;\">\\u3000⑵實務上雖有不採行酒精回溯推論之案例，然究其原因，多係基於「有疑有利於被告原則」，而須對被告為有利之認定。然本案亞東醫院之鑑定報告，採行酒精回溯推論之見解，並未有何對被告不利的情狀，檢察官所舉之理由，尚非可採</div><div id=\"pasted_paragraph_1709705178991L_5775893\" style=\"padding-left: 48px; text-indent: -48px;\">\\u3000⑶原審於111年3月4日囑託亞東醫院鑑定時，係以將本案全部<abbr class=\"termhover\" id=\"%e9%9b%bb%e5%ad%90%e5%8d%b7%e8%ad%89\" rel=\"M\">電子卷證</abbr>送交亞東醫院以供鑑定參考（見原審卷一第251至252頁），後續有新增證據，亦提供該院（原審卷一第405頁）。而本案之鑑定醫師，乃基於其過往學習的理論、臨床的經驗，將鑑定重心放在被告於鑑定時的現場行為、反應、過去的生活經驗、病史、藥物與酒精在被告身上的作用狀況等項目，<abbr class=\"termhover\" id=\"%e9%9b%a3%e8%ac%82\" rel=\"M\">難謂</abbr>與鑑定醫學常規不符。再者，依據鑑定報告之記載，鑑定醫師已有參閱警方、新北地檢署及原審卷宗，僅係於鑑定報告內略載為「根據警察局及法院相關紀錄」、「根據法院卷宗及滕員自述」等情（見原審卷二第57頁），故難謂鑑定醫師有何未參閱本案卷宗即進行鑑定之瑕疵。</div><div id=\"pasted_paragraph_1709705178991M_2489032\" style=\"padding-left: 48px; text-indent: -48px;\">\\u3000⑷被告雖然本身具有衝動型之人格，然並不是僅有非衝動型人格才有可能因為酒精或藥物作用而導致辨識能力及控制能力顯著降低，鑑定報告基於鑑定時被告的現場行為、反應、過去的生活經驗、病史、藥物與酒精在被告身上的作用狀況等項目，認被告可能有因酒精及愷他命中毒而有辨識能力、控制能力顯著降低之情狀，並非無稽。</div><div id=\"pasted_paragraph_1709705178991N_660170\" style=\"padding-left: 48px; text-indent: -48px;\">\\u3000⑸鑑定報告結論記載：「滕員於案發時【可能】因為酒精與ketamine中毒造成之衝動控制不佳，使其知其行為為違法以及依其判斷而為行為之能力顯著減低」等語，固非以肯定句為結論。惟本院認定被告有辨識能力及控制能力顯著降低之情事，除參酌鑑定報告外，尚依前揭事證而為認定，已如前述，故檢察官上開主張，亦為本院所不採。\\u3000</div><div id=\"pasted_paragraph_1709705178991O_3676107\" style=\"padding-left: 48px; text-indent: -48px;\">\\u3000⒋<abbr class=\"termhover\" id=\"%e7%b6%9c%e4%b8%8a%e6%89%80%e8%bf%b0\" rel=\"M\">綜上所述</abbr>，檢察官上訴主張被告於案發時具有完全之責任能力，且亞東醫院鑑定報告草率、欠缺依據乙節，為本院所不採，已論駁如前，認檢察官上訴為無理由。被告上訴主張本案應有刑法第19條第2項之規定，為有理由。至檢察官上訴以原判決關於被告所為量刑過輕，請求從重量刑部分，因原判決有上述可議之處，應由本院<abbr class=\"termhover\" id=\"%e4%ba%88%e4%bb%a5\" rel=\"M\">予以</abbr>撤銷改判，其科刑之基礎即有變更，亦併予說明。</div><div id=\"pasted_paragraph_1709705178991P_3251681\" style=\"padding-left: 48px; text-indent: -48px;\">四、量刑：</div><div id=\"pasted_paragraph_1709705178991Q_5213990\" style=\"padding-left: 48px; text-indent: -48px;\">\\u3000\\u3000爰以行為人之責任為基礎，審酌被告前有傷害之經法院<abbr class=\"termhover\" id=\"%e8%ab%96%e7%bd%aa%e7%a7%91%e5%88%91\" rel=\"M\">論罪科刑</abbr>之前案紀錄，有本院被告前案紀錄表在卷可參，被告既然就前開暴力型犯罪歷經偵審程序，且執行完畢，卻仍犯本案，顯見被告無法自我約束。本案發生時，被告恰21歲生日，尚年輕氣盛，其思慮、社會歷練、待人處事與自我管理之能力容有未臻成熟之處；復於飲酒及施用毒品後情緒亢奮之情況，偶因與他人爭執；再以被告於16歲時，因遭人押到河堤邊打，致身體多處受傷，因此產生心理陰影而會隨身攜帶折疊刀防身，但於本案中並非預謀犯案所用。又被告只有國中肄業之教育程度，且依心理衡鑑的結論，被告整體認知功能屬於中下程度。本案被告本與被害人、徐嘉呈均不認識，當日被告係因慶生而前往「ENJOY酒吧」，期間因與徐嘉呈發生口角糾紛，而與徐嘉呈互毆，且過程中被告係因遭被害人持酒瓶毆打頭部，遂心生不滿，進而萌生持折疊刀殺害被害人之犯意，足見本案係屬偶發事件，而非預謀犯案，並考量其<span ref=\"style\" style=\"text-align: justify; display: inline;\">僅因細故即持刀攻擊被害人之<abbr class=\"termhover\" id=\"%e7%8a%af%e7%bd%aa%e5%8b%95%e6%a9%9f\" rel=\"M\">犯罪動機</abbr>及犯罪情節，而被害人死亡</span>造成被害人家屬永難弭平之傷痛。復衡酌被告自述為國中肄業之<abbr class=\"termhover\" id=\"%e6%99%ba%e8%ad%98%e7%a8%8b%e5%ba%a6\" rel=\"M\">智識程度</abbr>及家庭經濟狀況（從事過工地、餐飲及服務業，<abbr class=\"termhover\" id=\"%e7%be%88%e6%8a%bc\" rel=\"M\">羈押</abbr>前以陪人以打遊戲為業，平均月收入約新臺幣（下同）3至5萬元、未婚，須扶養祖母，見更審卷第411頁）。又被告<abbr class=\"termhover\" id=\"%e7%8a%af%e5%be%8c\" rel=\"M\">犯後</abbr>，於偵查中並未否認被害人遭其持折疊刀殺害，僅稱記憶斷片等語，且於原審及本院中均坦承犯行。關於民事損害賠償部分，被告年紀尚輕，並無積蓄可賠，經新北地院已以111年度重訴字第535號判決被告應賠償<abbr class=\"termhover\" id=\"%e5%91%8a%e8%a8%b4%e4%ba%ba\" rel=\"M\">告訴人</abbr>彭金燕511萬6,544元確定，被告亦表示出監後會工作償還之犯後態度；<span ref=\"style\" style=\"text-align: justify; display: inline;\">暨檢察官、被告及辯護人對量刑之意見，及</span>暨告訴<abbr class=\"termhover\" id=\"%e4%bb%a3%e7%90%86%e4%ba%ba\" rel=\"M\">代理人</abbr>於本院審理中表示：告訴人喪失獨子之傷痛無法彌補，請從重量刑之意見等一切情狀，量處如主文第2項所示之刑。</div><div id=\"pasted_paragraph_1709705178991R_5012709\" style=\"padding-left: 48px; text-indent: -48px;\">五、<abbr class=\"termhover\" id=\"%e6%b2%92%e6%94%b6\" rel=\"M\">沒收</abbr>：\\u3000\\u3000\\u3000</div><div id=\"pasted_paragraph_1709705178991S_5804706\" style=\"padding-left: 48px; text-indent: -48px;\">\\u3000\\u3000未扣案被告持以殺害被害人的折疊刀1把（扣案刀械並非被告於行為時所使用），雖係被告所有供本案犯罪所用之物，惟無證據證明該折疊刀屬<abbr class=\"termhover\" id=\"%e9%81%95%e7%a6%81%e7%89%a9\" rel=\"M\">違禁物</abbr>，且該物已遺失而未扣案，考量執行勞費，應認欠缺刑法上之重要性，爰依刑法第38條之2第2項之規定，不予<abbr class=\"termhover\" id=\"%e5%ae%a3%e5%91%8a\" rel=\"M\">宣告</abbr>沒收，<abbr class=\"termhover\" id=\"%e9%99%84%e6%ad%a4%e6%95%98%e6%98%8e\" rel=\"M\">附此敘明</abbr>。</div><div id=\"pasted_paragraph_1709705178991T_729892\" style=\"text-align: justify;\">據上論斷，應依刑事訴訟法第369條第1項前段、第364條、第299條第1項前段，判決如主文。</div><div id=\"pasted_paragraph_1709705178991U_7956212\" style=\"text-align: justify;\">本案經檢察官陳柏文提起公訴，檢察官江佩蓉提起上訴，檢察官高嘉惠到庭執行職務。</div><div id=\"pasted_paragraph_1709705178991V_6897214\">中\\u3000\\u3000華\\u3000\\u3000民\\u3000\\u3000國\\u3000\\u3000113 \\u3000年\\u3000\\u30004 \\u3000\\u3000月\\u3000\\u300018\\u3000\\u3000日</div><div id=\"pasted_paragraph_1709705178991W_6957667\" style=\"text-indent: -216px; padding-left: 216px;\">\\xa0 \\xa0 \\xa0 \\xa0 \\xa0 \\xa0 \\xa0 \\xa0 \\xa0 刑事第二庭\\xa0 \\xa0 審判長法\\u3000官\\xa0 遲中慧</div><div id=\"pasted_paragraph_1709705178991Y_4535521\" style=\"text-indent: -456px; padding-left: 456px;\">\\xa0 \\xa0 \\xa0 \\xa0 \\xa0 \\xa0 \\xa0 \\xa0 \\xa0 \\xa0 \\xa0 \\xa0 \\xa0 \\xa0 \\xa0 \\xa0 \\xa0 \\xa0 \\xa0 法\\u3000官\\xa0 黎惠萍</div><div id=\"pasted_paragraph_1709705178991a_4478392\" style=\"text-indent: -456px; padding-left: 456px;\">\\xa0 \\xa0 \\xa0 \\xa0 \\xa0 \\xa0 \\xa0 \\xa0 \\xa0 \\xa0 \\xa0 \\xa0 \\xa0 \\xa0 \\xa0 \\xa0 \\xa0 \\xa0 \\xa0 法\\u3000官\\xa0 張少威</div><div id=\"pasted_paragraph_1713494316397d_5381258\">以上<abbr class=\"termhover\" id=\"%e6%ad%a3%e6%9c%ac\" rel=\"M\">正本</abbr>證明與原本無異。</div><div id=\"pasted_paragraph_1713494316397e_8089349\">如不服本判決，應於收受<abbr class=\"termhover\" id=\"%e9%80%81%e9%81%94\" rel=\"M\">送達</abbr>後20日內向本院提出上訴書狀，其未敘述上訴之理由者並得於提起上訴後20日內向本院補提理由書（均須按<abbr class=\"termhover\" id=\"%e4%bb%96%e9%80%a0\" rel=\"M\">他造</abbr>當事人之人數附<abbr class=\"termhover\" id=\"%e7%b9%95%e6%9c%ac\" rel=\"M\">繕本</abbr>）「切勿逕送<abbr class=\"termhover\" id=\"%e4%b8%8a%e7%b4%9a%e6%b3%95%e9%99%a2\" rel=\"M\">上級法院</abbr>」。</div><div id=\"pasted_paragraph_1713494316397f_6293603\" style=\"text-indent: -504px; padding-left: 504px;\">\\xa0 \\xa0 \\xa0 \\xa0 \\xa0 \\xa0 \\xa0 \\xa0 \\xa0 \\xa0 \\xa0 \\xa0 \\xa0 \\xa0 \\xa0 \\xa0 \\xa0 \\xa0 \\xa0 書記官\\xa0 曾鈺馨</div><div id=\"paragraph_1713584801556I_2918379\">中\\u3000\\u3000華\\u3000\\u3000民\\u3000\\u3000國\\u3000\\u3000113 \\u3000年\\u3000\\u30004 \\u3000\\u3000月\\u3000\\u300018\\u3000\\u3000日</div><div class=\"he-h3\" id=\"pasted_paragraph_1709705178991e_5317014\" style=\"text-indent: -72px; padding-left: 72px;\">附錄：本案論罪科刑法條全文</div><div id=\"pasted_paragraph_1709705178991f_9816977\">中華民國刑法第271條</div><div id=\"pasted_paragraph_1709705178991g_550419\" style=\"text-align: justify;\">（普通殺人罪）</div><div id=\"pasted_paragraph_1709705178991h_6486415\" style=\"text-align: justify;\">殺人者，處死刑、<abbr class=\"termhover\" id=\"%e7%84%a1%e6%9c%9f%e5%be%92%e5%88%91\" rel=\"M\">無期徒刑</abbr>或10年以上有期徒刑。</div><div id=\"pasted_paragraph_1709705178991i_8979543\" style=\"text-align: justify;\">前項之<abbr class=\"termhover\" id=\"%e6%9c%aa%e9%81%82%e7%8a%af\" rel=\"M\">未遂犯</abbr>罰之。</div><div id=\"pasted_paragraph_1709705178991j_592414\"><abbr class=\"termhover\" id=\"%e9%a0%90%e5%82%99%e7%8a%af\" rel=\"M\">預備犯</abbr>第1項之罪者，處2年以下有期徒刑。</div>'"
      ]
     },
     "execution_count": 180,
     "metadata": {},
     "output_type": "execute_result"
    }
   ],
   "source": [
    "# 內文\n",
    "a = soup.find(\"div\", class_=\"htmlcontent\")\n",
    "a.get_text()\n",
    "# 轉回html文件格式\n",
    "html_innerText = soup.find(\"div\", class_=\"htmlcontent\").decode_contents()\n",
    "html_innerText"
   ]
  },
  {
   "cell_type": "code",
   "execution_count": 181,
   "metadata": {},
   "outputs": [],
   "source": [
    "# 判決主文(不乾淨還要再處理...)，這邊的格式每篇文可能不一樣，要抓整個內文的全部下來再用regex切\n",
    "judgement = soup.select(\"div[style='text-align: justify;']\")\n",
    "main_judgement = []\n",
    "for i in judgement:\n",
    "    main_judgement.append(i.get_text())"
   ]
  },
  {
   "cell_type": "code",
   "execution_count": 182,
   "metadata": {},
   "outputs": [],
   "source": [
    "# 法官(分兩個，因為標籤的緣故)\n",
    "# 1.審判長\n",
    "main_judge = soup.select_one(\"div[style='text-indent: -216px; padding-left: 216px;']\")\n",
    "main_judge = main_judge.get_text()"
   ]
  },
  {
   "cell_type": "code",
   "execution_count": 183,
   "metadata": {},
   "outputs": [
    {
     "name": "stdout",
     "output_type": "stream",
     "text": [
      "2\n",
      "2\n"
     ]
    }
   ],
   "source": [
    "# 2.其他法官\n",
    "# 注意屬性間的空格在html中代表的是套用好幾個不同屬性值，但在使用css selector時要用class要用.串起來\n",
    "other_judges = soup.select(\"div[style='text-indent: -456px; padding-left: 456px;']\")\n",
    "judges = []\n",
    "for i in other_judges:\n",
    "    print(2)\n",
    "    judges.append(i.get_text())"
   ]
  },
  {
   "cell_type": "markdown",
   "metadata": {},
   "source": [
    "test = soup.select_one(\"div.col-td.jud_content\")\n",
    "test\n",
    "\n",
    "jud > div:nth-child(4) > div ，這是直接在網頁上複製的selector\n",
    "div:nth-child(4)意思為，jud(父)底下的，第四個div"
   ]
  },
  {
   "cell_type": "code",
   "execution_count": 184,
   "metadata": {},
   "outputs": [
    {
     "data": {
      "text/plain": [
       "'\\r\\n                    臺灣高等法院 112 年度上更一字第 104 號刑事判決\\r\\n                '"
      ]
     },
     "execution_count": 184,
     "metadata": {},
     "output_type": "execute_result"
    }
   ],
   "source": [
    "# 案件標題id\n",
    "case_id = soup.select_one(\"div.col-td\")\n",
    "case_id = case_id.get_text()\n",
    "case_id"
   ]
  },
  {
   "cell_type": "code",
   "execution_count": 185,
   "metadata": {},
   "outputs": [
    {
     "data": {
      "text/plain": [
       "<div class=\"panel-title\">歷審裁判 <span class=\"badge\"></span>\n",
       "<div class=\"span-exportHis\">\n",
       "<a class=\"btn btn-basic btn-md cl-exportHis\" href=\"printHistory.aspx?id=TPHM%2c112%2c%e4%b8%8a%e6%9b%b4%e4%b8%80%2c104%2c112%2c%e4%b8%8a%e6%9b%b4%e4%b8%80%2c104%2c20240418%2c2&amp;d=20240418\" id=\"hyPrintHistory\" style=\"display:inline-block;\" target=\"_blank\">列印歷審清單</a>\n",
       "</div>\n",
       "</div>"
      ]
     },
     "execution_count": 185,
     "metadata": {},
     "output_type": "execute_result"
    }
   ],
   "source": [
    "# 相關法條\n",
    "lines = soup.select_one('div.rela-area.col-xs-4 div.panel-title')\n",
    "# for i in lines:\n",
    "#     print(i.get_text())\n",
    "lines\n",
    "#JudrelaLaw > div.panel-body > ul > li:nth-child(1)\n",
    "#ul.rela-law > \n",
    "#JudrelaLaw > div.panel-body > ul #JudrelaLaw > div.panel-body > ul > li:nth-child(1)\n",
    "# text = lines.select('li')\n",
    "# # text\n",
    "# lines = soup.find('ul', class_='rela-law')\n",
    "# lines.find_all('li')"
   ]
  },
  {
   "cell_type": "code",
   "execution_count": 186,
   "metadata": {},
   "outputs": [],
   "source": [
    "case_dict = {\n",
    "    \"case_id\":case_id,\n",
    "    \"judges\":[main_judge, judges],\n",
    "    \"judgement\": main_judgement,\n",
    "    \"text_html\":html_innerText\n",
    "}"
   ]
  },
  {
   "cell_type": "code",
   "execution_count": 192,
   "metadata": {},
   "outputs": [
    {
     "data": {
      "text/plain": [
       "'\\r\\n                    臺灣高等法院 112 年度上更一字第 104 號刑事判決\\r\\n                '"
      ]
     },
     "execution_count": 192,
     "metadata": {},
     "output_type": "execute_result"
    }
   ],
   "source": [
    "case_dict['case_id']"
   ]
  }
 ],
 "metadata": {
  "kernelspec": {
   "display_name": "web_scraping",
   "language": "python",
   "name": "python3"
  },
  "language_info": {
   "codemirror_mode": {
    "name": "ipython",
    "version": 3
   },
   "file_extension": ".py",
   "mimetype": "text/x-python",
   "name": "python",
   "nbconvert_exporter": "python",
   "pygments_lexer": "ipython3",
   "version": "3.10.14"
  }
 },
 "nbformat": 4,
 "nbformat_minor": 2
}
