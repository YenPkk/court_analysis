{
 "cells": [
  {
   "cell_type": "code",
   "execution_count": 1,
   "metadata": {},
   "outputs": [],
   "source": [
    "import requests as req\n",
    "from bs4 import BeautifulSoup as bs\n",
    "from pprint import pprint"
   ]
  },
  {
   "cell_type": "code",
   "execution_count": 6,
   "metadata": {},
   "outputs": [
    {
     "name": "stdout",
     "output_type": "stream",
     "text": [
      "https://judgment.judicial.gov.tw/FJUD/qryresultlst.aspx?q=d00dc20bf1f6a7385cb6c4a46693bab3&sort=DS&page=1&ot=in\n",
      "https://judgment.judicial.gov.tw/FJUD/qryresultlst.aspx?q=d00dc20bf1f6a7385cb6c4a46693bab3&sort=DS&page=2&ot=in\n",
      "https://judgment.judicial.gov.tw/FJUD/qryresultlst.aspx?q=d00dc20bf1f6a7385cb6c4a46693bab3&sort=DS&page=3&ot=in\n",
      "https://judgment.judicial.gov.tw/FJUD/qryresultlst.aspx?q=d00dc20bf1f6a7385cb6c4a46693bab3&sort=DS&page=4&ot=in\n",
      "https://judgment.judicial.gov.tw/FJUD/qryresultlst.aspx?q=d00dc20bf1f6a7385cb6c4a46693bab3&sort=DS&page=5&ot=in\n",
      "https://judgment.judicial.gov.tw/FJUD/qryresultlst.aspx?q=d00dc20bf1f6a7385cb6c4a46693bab3&sort=DS&page=6&ot=in\n",
      "https://judgment.judicial.gov.tw/FJUD/qryresultlst.aspx?q=d00dc20bf1f6a7385cb6c4a46693bab3&sort=DS&page=7&ot=in\n",
      "https://judgment.judicial.gov.tw/FJUD/qryresultlst.aspx?q=d00dc20bf1f6a7385cb6c4a46693bab3&sort=DS&page=8&ot=in\n",
      "https://judgment.judicial.gov.tw/FJUD/qryresultlst.aspx?q=d00dc20bf1f6a7385cb6c4a46693bab3&sort=DS&page=9&ot=in\n",
      "https://judgment.judicial.gov.tw/FJUD/qryresultlst.aspx?q=d00dc20bf1f6a7385cb6c4a46693bab3&sort=DS&page=10&ot=in\n",
      "https://judgment.judicial.gov.tw/FJUD/qryresultlst.aspx?q=d00dc20bf1f6a7385cb6c4a46693bab3&sort=DS&page=11&ot=in\n",
      "https://judgment.judicial.gov.tw/FJUD/qryresultlst.aspx?q=d00dc20bf1f6a7385cb6c4a46693bab3&sort=DS&page=12&ot=in\n",
      "https://judgment.judicial.gov.tw/FJUD/qryresultlst.aspx?q=d00dc20bf1f6a7385cb6c4a46693bab3&sort=DS&page=13&ot=in\n",
      "https://judgment.judicial.gov.tw/FJUD/qryresultlst.aspx?q=d00dc20bf1f6a7385cb6c4a46693bab3&sort=DS&page=14&ot=in\n",
      "https://judgment.judicial.gov.tw/FJUD/qryresultlst.aspx?q=d00dc20bf1f6a7385cb6c4a46693bab3&sort=DS&page=15&ot=in\n",
      "https://judgment.judicial.gov.tw/FJUD/qryresultlst.aspx?q=d00dc20bf1f6a7385cb6c4a46693bab3&sort=DS&page=16&ot=in\n",
      "https://judgment.judicial.gov.tw/FJUD/qryresultlst.aspx?q=d00dc20bf1f6a7385cb6c4a46693bab3&sort=DS&page=17&ot=in\n",
      "https://judgment.judicial.gov.tw/FJUD/qryresultlst.aspx?q=d00dc20bf1f6a7385cb6c4a46693bab3&sort=DS&page=18&ot=in\n",
      "https://judgment.judicial.gov.tw/FJUD/qryresultlst.aspx?q=d00dc20bf1f6a7385cb6c4a46693bab3&sort=DS&page=19&ot=in\n",
      "https://judgment.judicial.gov.tw/FJUD/qryresultlst.aspx?q=d00dc20bf1f6a7385cb6c4a46693bab3&sort=DS&page=20&ot=in\n",
      "https://judgment.judicial.gov.tw/FJUD/qryresultlst.aspx?q=d00dc20bf1f6a7385cb6c4a46693bab3&sort=DS&page=21&ot=in\n",
      "https://judgment.judicial.gov.tw/FJUD/qryresultlst.aspx?q=d00dc20bf1f6a7385cb6c4a46693bab3&sort=DS&page=22&ot=in\n",
      "https://judgment.judicial.gov.tw/FJUD/qryresultlst.aspx?q=d00dc20bf1f6a7385cb6c4a46693bab3&sort=DS&page=23&ot=in\n",
      "https://judgment.judicial.gov.tw/FJUD/qryresultlst.aspx?q=d00dc20bf1f6a7385cb6c4a46693bab3&sort=DS&page=24&ot=in\n",
      "https://judgment.judicial.gov.tw/FJUD/qryresultlst.aspx?q=d00dc20bf1f6a7385cb6c4a46693bab3&sort=DS&page=25&ot=in\n"
     ]
    }
   ],
   "source": [
    "#切換網址的page而已\n",
    "# 因為限制搜尋500筆(到時候再用切分的方式，用seleium爬完)，每頁有20筆所以只需要看25頁就好\n",
    "# 要判斷如果沒有下一頁的話就終止\n",
    "for page in range(1,26):\n",
    "    url = 'https://judgment.judicial.gov.tw/FJUD/qryresultlst.aspx?q=d00dc20bf1f6a7385cb6c4a46693bab3&sort=DS&page='+str(page)+'&ot=in'\n",
    "    print(url)"
   ]
  }
 ],
 "metadata": {
  "kernelspec": {
   "display_name": "web_scraping",
   "language": "python",
   "name": "python3"
  },
  "language_info": {
   "codemirror_mode": {
    "name": "ipython",
    "version": 3
   },
   "file_extension": ".py",
   "mimetype": "text/x-python",
   "name": "python",
   "nbconvert_exporter": "python",
   "pygments_lexer": "ipython3",
   "version": "3.10.14"
  }
 },
 "nbformat": 4,
 "nbformat_minor": 2
}
