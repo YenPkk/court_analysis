{
 "cells": [
  {
   "cell_type": "code",
   "execution_count": 1,
   "metadata": {},
   "outputs": [],
   "source": [
    "from selenium.webdriver.chrome.service import Service\n",
    "from selenium import webdriver\n",
    "\n",
    "# 處理逾時例外的工具\n",
    "from selenium.common.exceptions import TimeoutException\n",
    "\n",
    "# 面對動態網頁，等待某個元素出現的工具，通常與 exptected_conditions 搭配\n",
    "from selenium.webdriver.support.ui import WebDriverWait\n",
    "\n",
    "# 搭配 WebDriverWait 使用，對元素狀態的一種期待條件，若條件發生，則等待結束，往下一行執行\n",
    "from selenium.webdriver.support import expected_conditions as EC\n",
    "\n",
    "# 期待元素出現要透過什麼方式指定，通常與 EC、WebDriverWait 一起使用\n",
    "from selenium.webdriver.common.by import By\n",
    "\n",
    "# 強制等待 (執行期間休息一下)\n",
    "from time import sleep\n",
    "\n",
    "#beautifulsoup\n",
    "import requests as req\n",
    "from bs4 import BeautifulSoup as bs\n",
    "from pprint import pprint\n",
    "\n",
    "import re\n",
    "\n",
    "import json\n",
    "\n",
    "import pandas as pd"
   ]
  },
  {
   "cell_type": "code",
   "execution_count": null,
   "metadata": {},
   "outputs": [],
   "source": [
    "# iframe的網址\n",
    "# qryresultlst.aspx?ty=JUDBOOK&q=d8d57aa66c8cd1e9f65b7ab074dec662"
   ]
  },
  {
   "cell_type": "code",
   "execution_count": 21,
   "metadata": {},
   "outputs": [],
   "source": [
    "params = {\n",
    "    \"offset\": \"0\",\n",
    "    \"sortBy\": \"topSelling\",\n",
    "    \"source\": \"omega\",\n",
    "    \"filter\": [\n",
    "        '{\"id\":\"referer\",\"value\":\"/hotsite/todas-ofertas-mundo\",\"fixed\":true,\"hidden\":true}',\n",
    "        '{\"id\":\"currency\",\"value\":\"USD\",\"fixed\":true,\"name\":\"moeda\",\"hidden\":true}'\n",
    "    ],\n",
    "    \"limit\": \"100000\",\n",
    "    \"suggestion\": \"true\"\n",
    "}"
   ]
  },
  {
   "cell_type": "code",
   "execution_count": 22,
   "metadata": {},
   "outputs": [],
   "source": [
    "ree = req.get(\"https://judgment.judicial.gov.tw/FJUD/qryresultlst.aspx?ty=JUDBOOK&q=d8d57aa66c8cd1e9f65b7ab074dec662\", params=params)"
   ]
  },
  {
   "cell_type": "code",
   "execution_count": 23,
   "metadata": {},
   "outputs": [],
   "source": [
    "soup = bs(ree.text, \"html\")"
   ]
  },
  {
   "cell_type": "code",
   "execution_count": 24,
   "metadata": {},
   "outputs": [
    {
     "data": {
      "text/plain": [
       "'\\n\\n\\n\\r\\n\\t查詢結果列表\\r\\n\\n\\n\\n\\n\\n\\n\\n \\n\\n\\n\\n\\n\\n\\n\\n\\n\\n\\n\\n\\n\\n\\n\\n\\n查詢結果列表\\n隱藏摘要\\n\\n\\n 本次查詢結果超出 500 筆，只顯示前 500 筆\\r\\n        \\r\\n\\n\\n\\r\\n                排序：\\r\\n\\t\\t\\t\\t    日期新到舊\\r\\n\\t\\t\\t\\t    \\n\\n\\n裁判日期新到舊\\n裁判日期舊到新\\n法院層級大到小\\n法院層級小到大\\n裁判大小大到小\\n裁判大小小到大\\n\\n\\n\\n\\n共 9672 筆 . 現在第 1 / 484 頁\\n\\n下一頁\\n最末頁\\r\\n\\t跳至\\r\\n        \\n1\\n2\\n3\\n4\\n5\\n6\\n7\\n8\\n9\\n10\\n11\\n12\\n13\\n14\\n15\\n16\\n17\\n18\\n19\\n20\\n21\\n22\\n23\\n24\\n25\\n\\r\\n頁\\r\\n    \\n\\n\\n\\n\\n\\n序號\\n裁判字號 （內容大小）\\n裁判日期 \\n裁判案由 \\n\\n\\n1.\\n臺灣新北地方法院 113 年度 訴 字第 179 號刑事判決（7K）\\n113.04.25\\n殺人未遂\\n\\n\\n\\n...20日內向本院補提理由書「切勿逕送上級法院」。書記官童泊鈞中華民國113 年4 月25日附錄本案論罪科刑法條：中華民國刑法第271條（普通殺人罪）殺人者，處死刑、無期徒刑或10年以上有期徒刑。前項之未遂犯罰之。預備犯第1項之罪者，處2年以下有期徒刑...\\n\\n\\n2.\\n臺灣高等法院 112 年度 上訴 字第 4225 號刑事判決（25K）\\n113.04.24\\n殺人未遂等\\n\\n\\n\\n...0號） 口徑0.40吋制式手槍，為奧地利GLOCK廠23C型，滑套及槍管具FML420字樣，槍身具BHT606US字樣，槍管內具6條右旋來復線，擊發功能正常，可供擊發同口徑制式子彈使用，認具殺傷力。 鑑定書： 內政部警政署刑事警察局111年9月27日刑鑑字第11...\\n\\n\\n3.\\n臺灣高等法院 臺中分院 113 年度 上訴 字第 213 號刑事判決（27K）\\n113.04.24\\n殺人未遂等\\n\\n\\n\\n...用之物，業據其坦認在卷，爰依刑法第38條第2項前段規定宣告沒收。據上論結，應依刑事訴訟法第369條第1項前段、第364條、第299條第1項前段，判決如主文。本案經檢察官周奕宏提起公訴，檢察官劉世豪提起上訴，檢察官陳幸敏到庭執行職務。中華民國113 年4 月24日...\\n\\n\\n4.\\n臺灣高等法院 花蓮分院 113 年度 上訴 字第 17 號刑事判決（7K）\\n113.04.19\\n殺人未遂\\n\\n\\n\\n...間之計算係以檢察官收受判決正本之日期為準。中華民國113 年4 月19日書記官陳有信 附錄本案論罪科刑法條全文中華民國刑法第271條殺人者，處死刑、無期徒刑或10年以上有期徒刑。前項之未遂犯罰之。預備犯第1項之罪者，處2年以下有期徒刑...\\n\\n\\n5.\\n臺灣高等法院 112 年度 上更一 字第 104 號刑事判決（27K）\\n113.04.18\\n殺人\\n\\n\\n\\n...當事人之人數附繕本）「切勿逕送上級法院」。書記官曾鈺馨中華民國113 年4 月18日附錄：本案論罪科刑法條全文中華民國刑法第271條（普通殺人罪）殺人者，處死刑、無期徒刑或10年以上有期徒刑。前項之未遂犯罰之。預備犯第1項之罪者，處2年以下有期徒刑...\\n\\n\\n6.\\n臺灣臺南地方法院 113 年度 訴 字第 150 號刑事判決（8K）\\n113.04.17\\n家暴殺人未遂等\\n\\n\\n\\n...處死刑、無期徒刑或10年以上有期徒刑。前項之未遂犯罰之。預備犯第1項之罪者，處2年以下有期徒刑。兒童及少年福利與權益保障法第112條成年人教唆、幫助或利用兒童及少年犯罪或與之共同實施犯罪或故意對其犯罪者，加重其刑至二分之一。但各該罪就被害人係兒童及少年已定有特別...\\n\\n\\n7.\\n臺灣高等法院 112 年度 上更一 字第 123 號刑事判決（17K）\\n113.04.11\\n殺人未遂等\\n\\n\\n\\n...000號鑑定書：送鑑彈殼1顆，研判係已擊發之口徑9×19mm制式彈殼；送鑑彈頭1顆，研判係已擊發撞擊變形之制式彈頭銅包衣，其上剩1條右旋來復線（見偵字第43853號卷第405至406頁）。 （本院前審已說明不沒收之理由） 3 iPhone手機1支（IMEI：00...\\n\\n\\n8.\\n臺灣高等法院 臺中分院 112 年度 矚上重更一 字第 6 號刑事判決（106K）\\n113.04.11\\n殺人等\\n\\n\\n\\n...國刑法第302條第1項私行拘禁或以其他非法方法，剝奪人之行動自由者，處5年以下有期徒刑、拘役或9千元以下罰金。中華民國刑法第271條第1項殺人者，處死刑、無期徒刑或10年以上有期徒刑...\\n\\n\\n9.\\n臺灣高雄地方法院 112 年度 訴 字第 697 號刑事判決（19K）\\n113.04.11\\n殺人未遂等\\n\\n\\n\\n...第十四條第一項、第十六條第三項或依第六十三條之一第一項準用第十四條第一項第一款、第二款、第四款、第十款、第十三款至第十五款及第十六條第三項所為之下列裁定者，為違反保護令罪，處3年以下有期徒刑、拘役或科或併科新臺幣10萬元以下罰金：一、禁止實施家庭暴力。二、禁止騷...\\n\\n\\n10.\\n臺灣屏東地方法院 111 年度 重訴 字第 12 號刑事判決（64K）\\n113.04.11\\n殺人\\n\\n\\n\\n...月、3月、3月、3月、3月（共6罪）3 詐欺得利罪 臺灣高雄地方法院108年度簡字4370號 有期徒刑2月4 妨害兵役治罪條例第4條第5款 本院108年度簡字1076號 有期徒刑2月5 毀損罪 臺灣新北地方法院108年簡字6520號 有期徒刑3月6 恐嚇取財未遂...\\n\\n\\n11.\\n臺灣士林地方法院 112 年度 易 字第 674 號刑事判決（20K）\\n113.04.02\\n家庭暴力罪之傷害\\n\\n\\n\\n...役或五十萬元以下罰金。犯前項之罪，因而致人於死者，處無期徒刑或七年以上有期徒刑；致重傷者，處三年以上十年以下有期徒刑。刑法第271條殺人者，處死刑、無期徒刑或十年以上有期徒刑。前項之未遂犯罰之。預備犯第一項之罪者，處二年以下有期徒刑...\\n\\n\\n12.\\n臺灣高等法院 112 年度 上訴 字第 5133 號刑事判決（29K）\\n113.03.28\\n殺人\\n\\n\\n\\n...訴期間之計算係以檢察官收受判決正本之日期為準。書記官林立柏中華民國113 年4 月3 日附錄本案論罪科刑法條：中華民國刑法第271條（普通殺人罪）殺人者，處死刑、無期徒刑或10年以上有期徒刑。前項之未遂犯罰之。預備犯第1項之罪者，處2年以下有期徒刑。附表（民國）...\\n\\n\\n13.\\n臺灣高等法院 高雄分院 112 年度 上訴 字第 354 號刑事判決（19K）\\n113.03.27\\n殺人未遂\\n\\n\\n\\n...造當事人之人數附繕本）「切勿逕送上級法院」。中華民國113 年3 月27日書記官黃楠婷附錄本判決論罪科刑法條：中華民國刑法第271條殺人者，處死刑、無期徒刑或十年以上有期徒刑。前項之未遂犯罰之。預備犯第一項之罪者，處二年以下有期徒刑...\\n\\n\\n14.\\n臺灣高等法院 112 年度 上訴 字第 2854 號刑事判決（13K）\\n113.03.19\\n殺人未遂等\\n\\n\\n\\n...當事人之人數附繕本）「切勿逕送上級法院」。書記官李政庭中華民國113 年3 月19日附錄：本案論罪科刑法條全文中華民國刑法第271條殺人者，處死刑、無期徒刑或十年以上有期徒刑。前項之未遂犯罰之。預備犯第一項之罪者，處二年以下有期徒刑...\\n\\n\\n15.\\n臺灣高等法院 臺中分院 113 年度 上訴 字第 56 號刑事判決（14K）\\n113.03.19\\n傷害等\\n\\n\\n\\n...造當事人之人數附繕本）「切勿逕送上級法院」。 書記官 陳琬婷 中華民國113 年3 月19日附錄本案論罪法條：中華民國刑法第305條以加害生命、身體、自由、名譽、財產之事恐嚇他人，致生危害於安全者，處2年以下有期徒刑、拘役或9千元以下罰金...\\n\\n\\n16.\\n臺灣高等法院 112 年度 上訴 字第 3554 號刑事判決（28K）\\n113.03.19\\n殺人\\n\\n\\n\\n...須按他造當事人之人數附繕本）「切勿逕送上級法院」。書記官林昱廷中華民國113 年3 月19日附錄：本案論罪科刑法條全文刑法第271條殺人者，處死刑、無期徒刑或10年以上有期徒刑。前項之未遂犯罰之。預備犯第1項之罪者，處2年以下有期徒刑...\\n\\n\\n17.\\n臺灣高等法院 高雄分院 112 年度 上訴 字第 394 號刑事判決（35K）\\n113.03.19\\n殺人等\\n\\n\\n\\n...71條殺人者，處死刑、無期徒刑或10年以上有期徒刑。前項之未遂犯罰之。預備犯第1項之罪者，處2年以下有期徒刑。中華民國刑法第277條傷害人之身體或健康者，處5年以下有期徒刑、拘役或50萬元以下罰金。犯前項之罪，因而致人於死者，處無期徒刑或7年以上有期徒刑；致重傷...\\n\\n\\n18.\\n臺灣屏東地方法院 112 年度 訴 字第 578 號刑事判決（25K）\\n113.03.14\\n殺人未遂等\\n\\n\\n\\n...1條殺人者，處死刑、無期徒刑或10年以上有期徒刑。前項之未遂犯罰之。預備犯第1項之罪者，處2年以下有期徒刑。 中華民國刑法第305條以加害生命、身體、自由、名譽、財產之事恐嚇他人，致生危害於安全者，處2年以下有期徒刑、拘役或9千元以下罰金。 卷別對照表簡稱卷宗名...\\n\\n\\n19.\\n臺灣高等法院 臺中分院 111 年度 原上訴 字第 28 號刑事判決（417K）\\n113.03.13\\n違反組織犯罪防制條例等\\n\\n\\n\\n...【現場編號25】 1卷 40 椅座（白鐵）【現場編號26】 1個 41 膠帶【現場編號27】 1條 42 膠帶【現場編號28】 1條 43 球棒（紅）【現場編號29】 1支 44 鐵鎚【現場編號30-1】 1支 45 護目鏡【現場編號30-2】 1支 46 撞球...\\n\\n\\n20.\\n臺灣高等法院 臺中分院 111 年度 原上訴 字第 27 號刑事判決（417K）\\n113.03.13\\n違反組織犯罪防制條例等\\n\\n\\n\\n...【現場編號25】 1卷 40 椅座（白鐵）【現場編號26】 1個 41 膠帶【現場編號27】 1條 42 膠帶【現場編號28】 1條 43 球棒（紅）【現場編號29】 1支 44 鐵鎚【現場編號30-1】 1支 45 護目鏡【現場編號30-2】 1支 46 撞球...\\n\\n\\n\\n\\n\\n共 9672 筆 . 現在第 1 / 484 頁\\n\\n下一頁\\n最末頁\\r\\n\\t跳至\\r\\n        \\n1\\n2\\n3\\n4\\n5\\n6\\n7\\n8\\n9\\n10\\n11\\n12\\n13\\n14\\n15\\n16\\n17\\n18\\n19\\n20\\n21\\n22\\n23\\n24\\n25\\n\\r\\n頁\\r\\n    \\n\\n\\n\\n\\n\\n\\n\\n\\n'"
      ]
     },
     "execution_count": 24,
     "metadata": {},
     "output_type": "execute_result"
    }
   ],
   "source": [
    "soup.text"
   ]
  },
  {
   "cell_type": "code",
   "execution_count": 25,
   "metadata": {},
   "outputs": [],
   "source": [
    "cssSelector = 'a#hlTitle'\n",
    "cases = soup.select(cssSelector)"
   ]
  },
  {
   "cell_type": "code",
   "execution_count": 27,
   "metadata": {},
   "outputs": [
    {
     "data": {
      "text/plain": [
       "[<a class=\"hlTitle_scroll\" href=\"data.aspx?ty=JD&amp;id=PCDM%2c113%2c%e8%a8%b4%2c179%2c20240425%2c1&amp;ot=in\" id=\"hlTitle\" onclick=\"cookieId('PCDM%2c113%2c%e8%a8%b4%2c179%2c20240425%2c1','0','d8d57aa66c8cd1e9f65b7ab074dec662','','','DS','1')\" onmousedown=\"cookieId('PCDM%2c113%2c%e8%a8%b4%2c179%2c20240425%2c1','0','d8d57aa66c8cd1e9f65b7ab074dec662','','','DS','1')\">臺灣新北地方法院 113 年度 訴 字第 179 號刑事判決</a>,\n",
       " <a class=\"hlTitle_scroll\" href=\"data.aspx?ty=JD&amp;id=TPHM%2c112%2c%e4%b8%8a%e8%a8%b4%2c4225%2c20240424%2c3&amp;ot=in\" id=\"hlTitle\" onclick=\"cookieId('TPHM%2c112%2c%e4%b8%8a%e8%a8%b4%2c4225%2c20240424%2c3','1','d8d57aa66c8cd1e9f65b7ab074dec662','','','DS','1')\" onmousedown=\"cookieId('TPHM%2c112%2c%e4%b8%8a%e8%a8%b4%2c4225%2c20240424%2c3','1','d8d57aa66c8cd1e9f65b7ab074dec662','','','DS','1')\">臺灣高等法院 112 年度 上訴 字第 4225 號刑事判決</a>,\n",
       " <a class=\"hlTitle_scroll\" href=\"data.aspx?ty=JD&amp;id=TCHM%2c113%2c%e4%b8%8a%e8%a8%b4%2c213%2c20240424%2c1&amp;ot=in\" id=\"hlTitle\" onclick=\"cookieId('TCHM%2c113%2c%e4%b8%8a%e8%a8%b4%2c213%2c20240424%2c1','2','d8d57aa66c8cd1e9f65b7ab074dec662','','','DS','1')\" onmousedown=\"cookieId('TCHM%2c113%2c%e4%b8%8a%e8%a8%b4%2c213%2c20240424%2c1','2','d8d57aa66c8cd1e9f65b7ab074dec662','','','DS','1')\">臺灣高等法院 臺中分院 113 年度 上訴 字第 213 號刑事判決</a>,\n",
       " <a class=\"hlTitle_scroll\" href=\"data.aspx?ty=JD&amp;id=HLHM%2c113%2c%e4%b8%8a%e8%a8%b4%2c17%2c20240419%2c1&amp;ot=in\" id=\"hlTitle\" onclick=\"cookieId('HLHM%2c113%2c%e4%b8%8a%e8%a8%b4%2c17%2c20240419%2c1','3','d8d57aa66c8cd1e9f65b7ab074dec662','','','DS','1')\" onmousedown=\"cookieId('HLHM%2c113%2c%e4%b8%8a%e8%a8%b4%2c17%2c20240419%2c1','3','d8d57aa66c8cd1e9f65b7ab074dec662','','','DS','1')\">臺灣高等法院 花蓮分院 113 年度 上訴 字第 17 號刑事判決</a>,\n",
       " <a class=\"hlTitle_scroll\" href=\"data.aspx?ty=JD&amp;id=TPHM%2c112%2c%e4%b8%8a%e6%9b%b4%e4%b8%80%2c104%2c20240418%2c2&amp;ot=in\" id=\"hlTitle\" onclick=\"cookieId('TPHM%2c112%2c%e4%b8%8a%e6%9b%b4%e4%b8%80%2c104%2c20240418%2c2','4','d8d57aa66c8cd1e9f65b7ab074dec662','','','DS','1')\" onmousedown=\"cookieId('TPHM%2c112%2c%e4%b8%8a%e6%9b%b4%e4%b8%80%2c104%2c20240418%2c2','4','d8d57aa66c8cd1e9f65b7ab074dec662','','','DS','1')\">臺灣高等法院 112 年度 上更一 字第 104 號刑事判決</a>,\n",
       " <a class=\"hlTitle_scroll\" href=\"data.aspx?ty=JD&amp;id=TNDM%2c113%2c%e8%a8%b4%2c150%2c20240417%2c1&amp;ot=in\" id=\"hlTitle\" onclick=\"cookieId('TNDM%2c113%2c%e8%a8%b4%2c150%2c20240417%2c1','5','d8d57aa66c8cd1e9f65b7ab074dec662','','','DS','1')\" onmousedown=\"cookieId('TNDM%2c113%2c%e8%a8%b4%2c150%2c20240417%2c1','5','d8d57aa66c8cd1e9f65b7ab074dec662','','','DS','1')\">臺灣臺南地方法院 113 年度 訴 字第 150 號刑事判決</a>,\n",
       " <a class=\"hlTitle_scroll\" href=\"data.aspx?ty=JD&amp;id=TPHM%2c112%2c%e4%b8%8a%e6%9b%b4%e4%b8%80%2c123%2c20240411%2c1&amp;ot=in\" id=\"hlTitle\" onclick=\"cookieId('TPHM%2c112%2c%e4%b8%8a%e6%9b%b4%e4%b8%80%2c123%2c20240411%2c1','6','d8d57aa66c8cd1e9f65b7ab074dec662','','','DS','1')\" onmousedown=\"cookieId('TPHM%2c112%2c%e4%b8%8a%e6%9b%b4%e4%b8%80%2c123%2c20240411%2c1','6','d8d57aa66c8cd1e9f65b7ab074dec662','','','DS','1')\">臺灣高等法院 112 年度 上更一 字第 123 號刑事判決</a>,\n",
       " <a class=\"hlTitle_scroll\" href=\"data.aspx?ty=JD&amp;id=TCHM%2c112%2c%e7%9f%9a%e4%b8%8a%e9%87%8d%e6%9b%b4%e4%b8%80%2c6%2c20240411%2c4&amp;ot=in\" id=\"hlTitle\" onclick=\"cookieId('TCHM%2c112%2c%e7%9f%9a%e4%b8%8a%e9%87%8d%e6%9b%b4%e4%b8%80%2c6%2c20240411%2c4','7','d8d57aa66c8cd1e9f65b7ab074dec662','','','DS','1')\" onmousedown=\"cookieId('TCHM%2c112%2c%e7%9f%9a%e4%b8%8a%e9%87%8d%e6%9b%b4%e4%b8%80%2c6%2c20240411%2c4','7','d8d57aa66c8cd1e9f65b7ab074dec662','','','DS','1')\">臺灣高等法院 臺中分院 112 年度 矚上重更一 字第 6 號刑事判決</a>,\n",
       " <a class=\"hlTitle_scroll\" href=\"data.aspx?ty=JD&amp;id=KSDM%2c112%2c%e8%a8%b4%2c697%2c20240411%2c3&amp;ot=in\" id=\"hlTitle\" onclick=\"cookieId('KSDM%2c112%2c%e8%a8%b4%2c697%2c20240411%2c3','8','d8d57aa66c8cd1e9f65b7ab074dec662','','','DS','1')\" onmousedown=\"cookieId('KSDM%2c112%2c%e8%a8%b4%2c697%2c20240411%2c3','8','d8d57aa66c8cd1e9f65b7ab074dec662','','','DS','1')\">臺灣高雄地方法院 112 年度 訴 字第 697 號刑事判決</a>,\n",
       " <a class=\"hlTitle_scroll\" href=\"data.aspx?ty=JD&amp;id=PTDM%2c111%2c%e9%87%8d%e8%a8%b4%2c12%2c20240411%2c2&amp;ot=in\" id=\"hlTitle\" onclick=\"cookieId('PTDM%2c111%2c%e9%87%8d%e8%a8%b4%2c12%2c20240411%2c2','9','d8d57aa66c8cd1e9f65b7ab074dec662','','','DS','1')\" onmousedown=\"cookieId('PTDM%2c111%2c%e9%87%8d%e8%a8%b4%2c12%2c20240411%2c2','9','d8d57aa66c8cd1e9f65b7ab074dec662','','','DS','1')\">臺灣屏東地方法院 111 年度 重訴 字第 12 號刑事判決</a>,\n",
       " <a class=\"hlTitle_scroll\" href=\"data.aspx?ty=JD&amp;id=SLDM%2c112%2c%e6%98%93%2c674%2c20240402%2c1&amp;ot=in\" id=\"hlTitle\" onclick=\"cookieId('SLDM%2c112%2c%e6%98%93%2c674%2c20240402%2c1','10','d8d57aa66c8cd1e9f65b7ab074dec662','','','DS','1')\" onmousedown=\"cookieId('SLDM%2c112%2c%e6%98%93%2c674%2c20240402%2c1','10','d8d57aa66c8cd1e9f65b7ab074dec662','','','DS','1')\">臺灣士林地方法院 112 年度 易 字第 674 號刑事判決</a>,\n",
       " <a class=\"hlTitle_scroll\" href=\"data.aspx?ty=JD&amp;id=TPHM%2c112%2c%e4%b8%8a%e8%a8%b4%2c5133%2c20240328%2c1&amp;ot=in\" id=\"hlTitle\" onclick=\"cookieId('TPHM%2c112%2c%e4%b8%8a%e8%a8%b4%2c5133%2c20240328%2c1','11','d8d57aa66c8cd1e9f65b7ab074dec662','','','DS','1')\" onmousedown=\"cookieId('TPHM%2c112%2c%e4%b8%8a%e8%a8%b4%2c5133%2c20240328%2c1','11','d8d57aa66c8cd1e9f65b7ab074dec662','','','DS','1')\">臺灣高等法院 112 年度 上訴 字第 5133 號刑事判決</a>,\n",
       " <a class=\"hlTitle_scroll\" href=\"data.aspx?ty=JD&amp;id=KSHM%2c112%2c%e4%b8%8a%e8%a8%b4%2c354%2c20240327%2c1&amp;ot=in\" id=\"hlTitle\" onclick=\"cookieId('KSHM%2c112%2c%e4%b8%8a%e8%a8%b4%2c354%2c20240327%2c1','12','d8d57aa66c8cd1e9f65b7ab074dec662','','','DS','1')\" onmousedown=\"cookieId('KSHM%2c112%2c%e4%b8%8a%e8%a8%b4%2c354%2c20240327%2c1','12','d8d57aa66c8cd1e9f65b7ab074dec662','','','DS','1')\">臺灣高等法院 高雄分院 112 年度 上訴 字第 354 號刑事判決</a>,\n",
       " <a class=\"hlTitle_scroll\" href=\"data.aspx?ty=JD&amp;id=TPHM%2c112%2c%e4%b8%8a%e8%a8%b4%2c2854%2c20240319%2c4&amp;ot=in\" id=\"hlTitle\" onclick=\"cookieId('TPHM%2c112%2c%e4%b8%8a%e8%a8%b4%2c2854%2c20240319%2c4','13','d8d57aa66c8cd1e9f65b7ab074dec662','','','DS','1')\" onmousedown=\"cookieId('TPHM%2c112%2c%e4%b8%8a%e8%a8%b4%2c2854%2c20240319%2c4','13','d8d57aa66c8cd1e9f65b7ab074dec662','','','DS','1')\">臺灣高等法院 112 年度 上訴 字第 2854 號刑事判決</a>,\n",
       " <a class=\"hlTitle_scroll\" href=\"data.aspx?ty=JD&amp;id=TCHM%2c113%2c%e4%b8%8a%e8%a8%b4%2c56%2c20240319%2c1&amp;ot=in\" id=\"hlTitle\" onclick=\"cookieId('TCHM%2c113%2c%e4%b8%8a%e8%a8%b4%2c56%2c20240319%2c1','14','d8d57aa66c8cd1e9f65b7ab074dec662','','','DS','1')\" onmousedown=\"cookieId('TCHM%2c113%2c%e4%b8%8a%e8%a8%b4%2c56%2c20240319%2c1','14','d8d57aa66c8cd1e9f65b7ab074dec662','','','DS','1')\">臺灣高等法院 臺中分院 113 年度 上訴 字第 56 號刑事判決</a>,\n",
       " <a class=\"hlTitle_scroll\" href=\"data.aspx?ty=JD&amp;id=TPHM%2c112%2c%e4%b8%8a%e8%a8%b4%2c3554%2c20240319%2c2&amp;ot=in\" id=\"hlTitle\" onclick=\"cookieId('TPHM%2c112%2c%e4%b8%8a%e8%a8%b4%2c3554%2c20240319%2c2','15','d8d57aa66c8cd1e9f65b7ab074dec662','','','DS','1')\" onmousedown=\"cookieId('TPHM%2c112%2c%e4%b8%8a%e8%a8%b4%2c3554%2c20240319%2c2','15','d8d57aa66c8cd1e9f65b7ab074dec662','','','DS','1')\">臺灣高等法院 112 年度 上訴 字第 3554 號刑事判決</a>,\n",
       " <a class=\"hlTitle_scroll\" href=\"data.aspx?ty=JD&amp;id=KSHM%2c112%2c%e4%b8%8a%e8%a8%b4%2c394%2c20240319%2c3&amp;ot=in\" id=\"hlTitle\" onclick=\"cookieId('KSHM%2c112%2c%e4%b8%8a%e8%a8%b4%2c394%2c20240319%2c3','16','d8d57aa66c8cd1e9f65b7ab074dec662','','','DS','1')\" onmousedown=\"cookieId('KSHM%2c112%2c%e4%b8%8a%e8%a8%b4%2c394%2c20240319%2c3','16','d8d57aa66c8cd1e9f65b7ab074dec662','','','DS','1')\">臺灣高等法院 高雄分院 112 年度 上訴 字第 394 號刑事判決</a>,\n",
       " <a class=\"hlTitle_scroll\" href=\"data.aspx?ty=JD&amp;id=PTDM%2c112%2c%e8%a8%b4%2c578%2c20240314%2c2&amp;ot=in\" id=\"hlTitle\" onclick=\"cookieId('PTDM%2c112%2c%e8%a8%b4%2c578%2c20240314%2c2','17','d8d57aa66c8cd1e9f65b7ab074dec662','','','DS','1')\" onmousedown=\"cookieId('PTDM%2c112%2c%e8%a8%b4%2c578%2c20240314%2c2','17','d8d57aa66c8cd1e9f65b7ab074dec662','','','DS','1')\">臺灣屏東地方法院 112 年度 訴 字第 578 號刑事判決</a>,\n",
       " <a class=\"hlTitle_scroll\" href=\"data.aspx?ty=JD&amp;id=TCHM%2c111%2c%e5%8e%9f%e4%b8%8a%e8%a8%b4%2c28%2c20240313%2c1&amp;ot=in\" id=\"hlTitle\" onclick=\"cookieId('TCHM%2c111%2c%e5%8e%9f%e4%b8%8a%e8%a8%b4%2c28%2c20240313%2c1','18','d8d57aa66c8cd1e9f65b7ab074dec662','','','DS','1')\" onmousedown=\"cookieId('TCHM%2c111%2c%e5%8e%9f%e4%b8%8a%e8%a8%b4%2c28%2c20240313%2c1','18','d8d57aa66c8cd1e9f65b7ab074dec662','','','DS','1')\">臺灣高等法院 臺中分院 111 年度 原上訴 字第 28 號刑事判決</a>,\n",
       " <a class=\"hlTitle_scroll\" href=\"data.aspx?ty=JD&amp;id=TCHM%2c111%2c%e5%8e%9f%e4%b8%8a%e8%a8%b4%2c27%2c20240313%2c1&amp;ot=in\" id=\"hlTitle\" onclick=\"cookieId('TCHM%2c111%2c%e5%8e%9f%e4%b8%8a%e8%a8%b4%2c27%2c20240313%2c1','19','d8d57aa66c8cd1e9f65b7ab074dec662','','','DS','1')\" onmousedown=\"cookieId('TCHM%2c111%2c%e5%8e%9f%e4%b8%8a%e8%a8%b4%2c27%2c20240313%2c1','19','d8d57aa66c8cd1e9f65b7ab074dec662','','','DS','1')\">臺灣高等法院 臺中分院 111 年度 原上訴 字第 27 號刑事判決</a>]"
      ]
     },
     "execution_count": 27,
     "metadata": {},
     "output_type": "execute_result"
    }
   ],
   "source": [
    "cases"
   ]
  },
  {
   "cell_type": "code",
   "execution_count": null,
   "metadata": {},
   "outputs": [],
   "source": []
  }
 ],
 "metadata": {
  "kernelspec": {
   "display_name": "web_scraping",
   "language": "python",
   "name": "python3"
  },
  "language_info": {
   "codemirror_mode": {
    "name": "ipython",
    "version": 3
   },
   "file_extension": ".py",
   "mimetype": "text/x-python",
   "name": "python",
   "nbconvert_exporter": "python",
   "pygments_lexer": "ipython3",
   "version": "3.10.14"
  }
 },
 "nbformat": 4,
 "nbformat_minor": 2
}
