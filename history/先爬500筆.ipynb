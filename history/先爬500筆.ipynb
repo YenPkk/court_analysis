{
 "cells": [
  {
   "cell_type": "code",
   "execution_count": 4,
   "metadata": {},
   "outputs": [],
   "source": [
    "import requests as req\n",
    "from bs4 import BeautifulSoup as bs\n",
    "from pprint import pprint"
   ]
  },
  {
   "cell_type": "code",
   "execution_count": 5,
   "metadata": {},
   "outputs": [],
   "source": [
    "case_list = []\n",
    "for page in range(1,26):\n",
    "    url = 'https://judgment.judicial.gov.tw/FJUD/qryresultlst.aspx?q=d8d57aa66c8cd1e9f65b7ab074dec662&sort=DS&page=1&ot=in'\n",
    "    res = req.post(url) \n",
    "    soup = bs(res.text, \"lxml\") \n",
    "\n",
    "    test = soup.select('table.jub-table tr > td > a#hlTitle')\n",
    "    for case in test:\n",
    "        case_list.append({\n",
    "            \"case_name\":case.get_text(),\n",
    "            \"case_url\":\"https://judgment.judicial.gov.tw/FJUD/\" + case[\"href\"]\n",
    "        })"
   ]
  },
  {
   "cell_type": "code",
   "execution_count": 6,
   "metadata": {},
   "outputs": [
    {
     "name": "stdout",
     "output_type": "stream",
     "text": [
      "500\n"
     ]
    }
   ],
   "source": [
    "print(len(case_list))"
   ]
  },
  {
   "cell_type": "code",
   "execution_count": 8,
   "metadata": {},
   "outputs": [
    {
     "name": "stdout",
     "output_type": "stream",
     "text": [
      "{'case_name': '臺灣高等法院 臺中分院 113 年度 上訴 字第 213 號刑事判決', 'case_url': 'https://judgment.judicial.gov.tw/FJUD/data.aspx?ty=JD&id=TCHM%2c113%2c%e4%b8%8a%e8%a8%b4%2c213%2c20240424%2c1&ot=in'}\n",
      "{'case_name': '臺灣高等法院 112 年度 上更一 字第 104 號刑事判決', 'case_url': 'https://judgment.judicial.gov.tw/FJUD/data.aspx?ty=JD&id=TPHM%2c112%2c%e4%b8%8a%e6%9b%b4%e4%b8%80%2c104%2c20240418%2c2&ot=in'}\n",
      "{'case_name': '臺灣臺南地方法院 113 年度 訴 字第 150 號刑事判決', 'case_url': 'https://judgment.judicial.gov.tw/FJUD/data.aspx?ty=JD&id=TNDM%2c113%2c%e8%a8%b4%2c150%2c20240417%2c1&ot=in'}\n",
      "{'case_name': '臺灣高等法院 112 年度 上更一 字第 123 號刑事判決', 'case_url': 'https://judgment.judicial.gov.tw/FJUD/data.aspx?ty=JD&id=TPHM%2c112%2c%e4%b8%8a%e6%9b%b4%e4%b8%80%2c123%2c20240411%2c1&ot=in'}\n",
      "{'case_name': '臺灣高等法院 臺中分院 112 年度 矚上重更一 字第 6 號刑事判決', 'case_url': 'https://judgment.judicial.gov.tw/FJUD/data.aspx?ty=JD&id=TCHM%2c112%2c%e7%9f%9a%e4%b8%8a%e9%87%8d%e6%9b%b4%e4%b8%80%2c6%2c20240411%2c4&ot=in'}\n",
      "{'case_name': '臺灣高雄地方法院 112 年度 訴 字第 697 號刑事判決', 'case_url': 'https://judgment.judicial.gov.tw/FJUD/data.aspx?ty=JD&id=KSDM%2c112%2c%e8%a8%b4%2c697%2c20240411%2c3&ot=in'}\n",
      "{'case_name': '臺灣屏東地方法院 111 年度 重訴 字第 12 號刑事判決', 'case_url': 'https://judgment.judicial.gov.tw/FJUD/data.aspx?ty=JD&id=PTDM%2c111%2c%e9%87%8d%e8%a8%b4%2c12%2c20240411%2c2&ot=in'}\n",
      "{'case_name': '臺灣士林地方法院 112 年度 易 字第 674 號刑事判決', 'case_url': 'https://judgment.judicial.gov.tw/FJUD/data.aspx?ty=JD&id=SLDM%2c112%2c%e6%98%93%2c674%2c20240402%2c1&ot=in'}\n",
      "{'case_name': '臺灣高等法院 112 年度 上訴 字第 5133 號刑事判決', 'case_url': 'https://judgment.judicial.gov.tw/FJUD/data.aspx?ty=JD&id=TPHM%2c112%2c%e4%b8%8a%e8%a8%b4%2c5133%2c20240328%2c1&ot=in'}\n",
      "{'case_name': '臺灣高等法院 高雄分院 112 年度 上訴 字第 354 號刑事判決', 'case_url': 'https://judgment.judicial.gov.tw/FJUD/data.aspx?ty=JD&id=KSHM%2c112%2c%e4%b8%8a%e8%a8%b4%2c354%2c20240327%2c1&ot=in'}\n"
     ]
    }
   ],
   "source": [
    "for index, oo in enumerate(case_list):\n",
    "    if index < 10:\n",
    "        print(oo)"
   ]
  },
  {
   "cell_type": "code",
   "execution_count": null,
   "metadata": {},
   "outputs": [],
   "source": []
  }
 ],
 "metadata": {
  "kernelspec": {
   "display_name": "web_scraping",
   "language": "python",
   "name": "python3"
  },
  "language_info": {
   "codemirror_mode": {
    "name": "ipython",
    "version": 3
   },
   "file_extension": ".py",
   "mimetype": "text/x-python",
   "name": "python",
   "nbconvert_exporter": "python",
   "pygments_lexer": "ipython3",
   "version": "3.10.14"
  }
 },
 "nbformat": 4,
 "nbformat_minor": 2
}
