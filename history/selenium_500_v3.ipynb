{
 "cells": [
  {
   "cell_type": "code",
   "execution_count": 8,
   "metadata": {},
   "outputs": [],
   "source": [
    "from selenium.webdriver.chrome.service import Service\n",
    "from selenium import webdriver\n",
    "\n",
    "# 處理逾時例外的工具\n",
    "from selenium.common.exceptions import TimeoutException\n",
    "\n",
    "# 面對動態網頁，等待某個元素出現的工具，通常與 exptected_conditions 搭配\n",
    "from selenium.webdriver.support.ui import WebDriverWait\n",
    "\n",
    "# 搭配 WebDriverWait 使用，對元素狀態的一種期待條件，若條件發生，則等待結束，往下一行執行\n",
    "from selenium.webdriver.support import expected_conditions as EC\n",
    "\n",
    "# 期待元素出現要透過什麼方式指定，通常與 EC、WebDriverWait 一起使用\n",
    "from selenium.webdriver.common.by import By\n",
    "\n",
    "# 強制等待 (執行期間休息一下)\n",
    "from time import sleep\n",
    "\n",
    "#beautifulsoup\n",
    "import requests as req\n",
    "from bs4 import BeautifulSoup as bs\n",
    "from pprint import pprint\n",
    "\n",
    "import re\n",
    "\n",
    "import json\n",
    "\n",
    "import pandas as pd"
   ]
  },
  {
   "cell_type": "code",
   "execution_count": 9,
   "metadata": {},
   "outputs": [],
   "source": [
    "driver = webdriver.Chrome(\n",
    ")\n",
    "driver.get(\"https://judgment.judicial.gov.tw/FJUD/Default_AD.aspx\")\n",
    "\n",
    "#等待頁面載入\n",
    "try:\n",
    "    WebDriverWait(driver, 10).until(\n",
    "    EC.presence_of_element_located(\n",
    "    (By.CSS_SELECTOR, 'input#jud_jmain')\n",
    "    ))\n",
    "    input_case_reason = driver.find_element(By.CSS_SELECTOR, 'input#jud_jmain')\n",
    "    input_case_reason.send_keys(\"殺人\")\n",
    "    input_case_content = driver.find_element(By.CSS_SELECTOR, 'input#jud_kw')\n",
    "    input_case_content.send_keys(\"中華民國刑法第 271 條&刑事判決\")\n",
    "    search_button = driver.find_element(By.CSS_SELECTOR, 'input#btnQry')\n",
    "    search_button.click()\n",
    "    sleep(1)\n",
    "except TimeoutException:\n",
    "    print(\"can not search\")"
   ]
  },
  {
   "cell_type": "code",
   "execution_count": 10,
   "metadata": {},
   "outputs": [
    {
     "name": "stdout",
     "output_type": "stream",
     "text": [
      "https://judgment.judicial.gov.tw/FJUD/qryresultlst.aspx?q=6cce162073a2c1cb1d8644cde16e653d&sort=DS&page=2&ot=in\n"
     ]
    }
   ],
   "source": [
    "#等待iframe與下一頁按鈕\n",
    "try:\n",
    "    WebDriverWait(driver, 10).until(\n",
    "    EC.presence_of_element_located(\n",
    "    (By.CSS_SELECTOR, \"iframe#iframe-data\")\n",
    "    ))\n",
    "\n",
    "    iframe = driver.find_element(By.CSS_SELECTOR, \"iframe#iframe-data\")\n",
    "    driver.switch_to.frame(iframe)\n",
    "    page_url = driver.find_element(By.CSS_SELECTOR, 'a#hlNext').get_attribute('href')\n",
    "    print(page_url)\n",
    "\n",
    "except TimeoutException:\n",
    "    print(\"not found...next_page_button\")"
   ]
  },
  {
   "cell_type": "markdown",
   "metadata": {},
   "source": [
    "#測試一下標籤\n",
    "driver.get(page_url)\n",
    "cssSelector = 'a#hlTitle'\n",
    "case_url = driver.find_element(By.CSS_SELECTOR, cssSelector)\n",
    "case_url.click()\n",
    "# 如果這邊click之後，沒有等JSt生成，就直接page_source抓動態html的話，會抓不到，用標籤判斷根本沒用，標籤會在，只是沒有內容，看有沒有其他隱性等待的方法(這樣比較保險)，不然就要強制ˋ等待了，或使隱性等待?(但他是如何判斷加載完成的...)\n",
    "#!!!!要抓li，js生成的是li，因為平常進網頁就載入好了，跟一班明顯的js變化不同，所以沒有察覺\n",
    "try:\n",
    "    # 看有沒有抓到js生成的側攔\n",
    "    sidebarSelector = 'ul.rela-law li'\n",
    "    WebDriverWait(driver, 10).until(\n",
    "    EC.presence_of_element_located(\n",
    "    (By.CSS_SELECTOR, sidebarSelector)\n",
    "    ))\n",
    "\n",
    "    #有的話，就取得動態html\n",
    "    case_html = driver.page_source\n",
    "    soup = bs(case_html, \"lxml\")\n",
    "\n",
    "except TimeoutException:\n",
    "    print(\"not found...element\")\n",
    "\n",
    "\n",
    "# side_bar = soup.select_one('div.rela-area.col-xs-4')\n",
    "# print(side_bar.get_text())\n",
    "### 這邊要改li然後再加進一個Lsit當中\n",
    "linesSelector = 'ul.rela-law li'\n",
    "lines = soup.select(linesSelector)\n",
    "for law in lines:\n",
    "    print(law.get_text())\n",
    "\n"
   ]
  },
  {
   "cell_type": "markdown",
   "metadata": {},
   "source": [
    "# 若case_id為\"本件無歷審裁判\"，則不會有url\n",
    "history_judgement = soup.select(\"div#JudHis div.panel-body ul li\")\n",
    "history_judgement_list = []\n",
    "for index in range(0, len(history_judgement)):\n",
    "    if not str(history_judgement[index].select_one('a')) == \"None\":\n",
    "        history_judgement_list.append({\n",
    "        \"case_id\":str(history_judgement[index].get_text()),\n",
    "        \"url\":\"https://judgment.judicial.gov.tw/FJUD/\"+ str(history_judgement[index].select_one('a')['href'])\n",
    "        #抓不到a就會變成NoneType object，要怎麼處理??\n",
    "        # NoneType object當然也不能用['href']所以會報錯\n",
    "\n",
    "        # \"url\":\"https://judgment.judicial.gov.tw/FJUD/\"+ history_judgement[index].select_one('a')['href']\n",
    "        })\n",
    "    else:\n",
    "        history_judgement_list.append({\n",
    "        \"case_id\":str(history_judgement[index].get_text())\n",
    "        })\n",
    "\n",
    "history_judgement_list"
   ]
  },
  {
   "cell_type": "code",
   "execution_count": 11,
   "metadata": {},
   "outputs": [],
   "source": [
    "page_url_list = [] \n",
    "regex_page_url = \"&page=[\\d]*\"\n",
    "test = re.split(regex_page_url, page_url)\n",
    "for each_page in range(1,26):\n",
    "    page_url_list.append(f\"{test[0]}&page={each_page}{test[1]}\") "
   ]
  },
  {
   "cell_type": "code",
   "execution_count": 12,
   "metadata": {},
   "outputs": [],
   "source": [
    "# 放所有case的資料\n",
    "all_case_list = []"
   ]
  },
  {
   "cell_type": "code",
   "execution_count": 13,
   "metadata": {},
   "outputs": [],
   "source": [
    "# 加try excecpt\n",
    "# 要設一些如果沒抓到東西時的條件，比如歷史審判可能會沒有\n",
    "# 然後改移下一開始的wait反正就是等旁偏那個javascript生出來的測攔出來就好\n",
    "# 開始爬case，這是每一頁的網址\n",
    "for page in page_url_list:\n",
    "    driver.get(page)\n",
    "    try:\n",
    "        cssSelector = 'a#hlTitle'\n",
    "        WebDriverWait(driver, 10).until(\n",
    "        EC.presence_of_element_located(\n",
    "            (By.CSS_SELECTOR, cssSelector)\n",
    "        ))\n",
    "\n",
    "        case_url = driver.find_elements(By.CSS_SELECTOR, cssSelector)\n",
    "    except TimeoutException:\n",
    "        print(\"cases not found\")\n",
    "        break\n",
    "\n",
    "    # cases找到後開始一個一個點\n",
    "    # 這是每一頁當中的至多20筆的資料    \n",
    "    for case in case_url:\n",
    "        case.click()\n",
    "\n",
    "        try:\n",
    "            # 看有沒有抓到js生成的側攔\"當中的li\"，li就是js後來生成的\n",
    "            # 這邊要改可能還是沒有laws，而且結果超奇怪....根本抓不到law結果欄位有值，抓地到history但沒有值...\n",
    "            \n",
    "            side_li_selector_2 = 'div#JudHis div.panel-body ul li'\n",
    "            WebDriverWait(driver, 15).until(\n",
    "            EC.presence_of_element_located(\n",
    "            (By.CSS_SELECTOR, side_li_selector_2)\n",
    "            ))\n",
    "\n",
    "            #還是這邊可以等兩個?等個兩個載好在來取得動態html\n",
    "        except TimeoutException:\n",
    "            # 如果有錯的話抓這個webelement的text(標題)，href(超連結)\n",
    "            print(f\"{case.text} {case.get_attribute('href')} not found...history, may be critical error\")\n",
    "            #這邊之後要改logging\n",
    "\n",
    "        try:   \n",
    "            #不然這邊就是只看歷史審判(因為1.有時候很多所以加載比較慢2.好像一定會有此標籤因為至少也是\"本案例無相關歷史案件\"之類的)\n",
    "            # 想一下這邊要用主動等待還是強制，主動等待的好處在於有可能是網路加載比較慢(可以避免這個問題)，而且真的沒這個欄位的時間應該很少\n",
    "            # 但這個欄位真的有可能抓不到那就要抱錯，可是我們應該分開來報，因為兩個的問題不一樣\n",
    "            side_li_selector_1 = 'ul.rela-law li'\n",
    "            WebDriverWait(driver, 5).until(\n",
    "            EC.presence_of_element_located(\n",
    "            (By.CSS_SELECTOR, side_li_selector_1)\n",
    "            ))\n",
    "        except TimeoutException:\n",
    "            print(f\"{case.text} {case.get_attribute('href')} not found...laws, it's ok\")\n",
    "\n",
    "\n",
    "        #取得動態html #反正都要連到這個case當中，若上面兩個沒抓到，就只是side_bar的資料有少但其他資料還是有的\n",
    "        #但我就在想這樣會不會很雞肋、而且反而拖到時間，因為有些case是真的沒有上面那兩個side_bar，還是乾脆就強制等待sleep算了，不知道哪種比較優且快\n",
    "        sleep(1) # 稍微等一下laws那個side_bar位置\n",
    "        case_html = driver.page_source\n",
    "        soup = bs(case_html, \"lxml\")\n",
    "\n",
    "        allSelector = 'div.col-td'\n",
    "        all = soup.select(allSelector)\n",
    "\n",
    "        # 這邊要加個判斷，不知道寫的可不可以，不是抓不到但好像怪怪的\n",
    "        laws_list = []\n",
    "        linesSelector = 'ul.rela-law li'\n",
    "        lines = soup.select(linesSelector)\n",
    "        for law in lines:\n",
    "            laws_list.append(str(law.get_text()))\n",
    "\n",
    "        \n",
    "        history_judgement = soup.select(\"div#JudHis div.panel-body ul li\")\n",
    "        history_judgement_list = []\n",
    "        for index in range(0, len(history_judgement)):\n",
    "            if not str(history_judgement[index].select_one('a')) == \"None\":\n",
    "                history_judgement_list.append({\n",
    "                    \"case_id\":str(history_judgement[index].get_text()),\n",
    "                    \"url\":\"https://judgment.judicial.gov.tw/FJUD/\"+ str(history_judgement[index].select_one('a')['href'])\n",
    "                })\n",
    "            else:\n",
    "                history_judgement_list.append({\n",
    "                \"case_id\":str(history_judgement[index].get_text())\n",
    "                })\n",
    "\n",
    "\n",
    "        all_case_list.append({\n",
    "        \"case_id\":str(all[0].get_text().strip()),\n",
    "        \"date\":str(all[1].get_text().strip()),\n",
    "        \"simple_reason\":str(all[2].get_text().strip()),\n",
    "        \"laws\":laws_list,\n",
    "        \"history_judgement\":history_judgement_list,\n",
    "        \"context\":str(all[3].get_text()),\n",
    "        })\n",
    "\n",
    "        driver.back()\n"
   ]
  },
  {
   "cell_type": "code",
   "execution_count": 14,
   "metadata": {},
   "outputs": [
    {
     "name": "stdout",
     "output_type": "stream",
     "text": [
      "['家庭暴力防治法 第 2、3 條（104.02.04）', '刑事訴訟法 第 156、158.2、158.4、159.1、159.2、159.5、299 條（106.11.16）', '中華民國刑法 第 1、25、38.1、95、271、320 條（105.11.30）']\n"
     ]
    }
   ],
   "source": [
    "print(all_case_list[44]['laws'])"
   ]
  },
  {
   "cell_type": "code",
   "execution_count": 15,
   "metadata": {},
   "outputs": [
    {
     "name": "stdout",
     "output_type": "stream",
     "text": [
      "500\n"
     ]
    }
   ],
   "source": [
    "print(len(all_case_list))"
   ]
  },
  {
   "cell_type": "code",
   "execution_count": 16,
   "metadata": {},
   "outputs": [],
   "source": [
    "# 就寫成dataframe再轉成csv八\n",
    "tt = pd.DataFrame(all_case_list)\n",
    "tt.to_csv('./cases_500_v4.csv')"
   ]
  },
  {
   "cell_type": "code",
   "execution_count": 17,
   "metadata": {},
   "outputs": [],
   "source": [
    "# side_bar兩個都要判斷?\n",
    "# div#JudHis > div.panel-body > ul > li"
   ]
  },
  {
   "cell_type": "code",
   "execution_count": 18,
   "metadata": {},
   "outputs": [
    {
     "data": {
      "text/html": [
       "<div>\n",
       "<style scoped>\n",
       "    .dataframe tbody tr th:only-of-type {\n",
       "        vertical-align: middle;\n",
       "    }\n",
       "\n",
       "    .dataframe tbody tr th {\n",
       "        vertical-align: top;\n",
       "    }\n",
       "\n",
       "    .dataframe thead th {\n",
       "        text-align: right;\n",
       "    }\n",
       "</style>\n",
       "<table border=\"1\" class=\"dataframe\">\n",
       "  <thead>\n",
       "    <tr style=\"text-align: right;\">\n",
       "      <th></th>\n",
       "      <th>case_id</th>\n",
       "      <th>date</th>\n",
       "      <th>simple_reason</th>\n",
       "      <th>laws</th>\n",
       "      <th>history_judgement</th>\n",
       "      <th>context</th>\n",
       "    </tr>\n",
       "  </thead>\n",
       "  <tbody>\n",
       "    <tr>\n",
       "      <th>0</th>\n",
       "      <td>臺灣新北地方法院 113 年度訴字第 179 號刑事判決</td>\n",
       "      <td>民國 113 年 04 月 25 日</td>\n",
       "      <td>殺人未遂</td>\n",
       "      <td>[刑事訴訟法 第 1、158.4、159.5、163.2、299 條（106.11.16）,...</td>\n",
       "      <td>[{'case_id': '臺灣新北地方法院 113 年度 訴 字第 179 號判決(113...</td>\n",
       "      <td>\\n\\n\\n\\n臺灣新北地方法院刑事判決113年度訴字第179號公  訴  人  臺灣新北地...</td>\n",
       "    </tr>\n",
       "    <tr>\n",
       "      <th>1</th>\n",
       "      <td>臺灣高等法院 112 年度上訴字第 4225 號刑事判決</td>\n",
       "      <td>民國 113 年 04 月 24 日</td>\n",
       "      <td>殺人未遂等</td>\n",
       "      <td>[槍砲彈藥刀械管制條例 第 7、12 條（106.06.14）, 中華民國刑法 第 1、25...</td>\n",
       "      <td>[{'case_id': '臺灣新竹地方法院 112 年度 訴 字第 75 號裁定(112....</td>\n",
       "      <td>\\n\\n\\n\\n臺灣高等法院刑事判決112年度上訴字第4225號上  訴  人  臺灣新竹地...</td>\n",
       "    </tr>\n",
       "    <tr>\n",
       "      <th>2</th>\n",
       "      <td>臺灣高等法院 臺中分院 113 年度上訴字第 213 號刑事判決</td>\n",
       "      <td>民國 113 年 04 月 24 日</td>\n",
       "      <td>殺人未遂等</td>\n",
       "      <td>[刑事訴訟法 第 159.1、369 條（106.11.16）, 中華民國刑法 第 1、13...</td>\n",
       "      <td>[{'case_id': '臺灣臺中地方法院 112 年度 訴 字第 1877 號裁定(11...</td>\n",
       "      <td>\\n\\n\\n\\n 臺灣高等法院臺中分院刑事判決113年度上訴字第213號上  訴  人  臺...</td>\n",
       "    </tr>\n",
       "  </tbody>\n",
       "</table>\n",
       "</div>"
      ],
      "text/plain": [
       "                            case_id                date simple_reason  \\\n",
       "0      臺灣新北地方法院 113 年度訴字第 179 號刑事判決  民國 113 年 04 月 25 日          殺人未遂   \n",
       "1      臺灣高等法院 112 年度上訴字第 4225 號刑事判決  民國 113 年 04 月 24 日         殺人未遂等   \n",
       "2  臺灣高等法院 臺中分院 113 年度上訴字第 213 號刑事判決  民國 113 年 04 月 24 日         殺人未遂等   \n",
       "\n",
       "                                                laws  \\\n",
       "0  [刑事訴訟法 第 1、158.4、159.5、163.2、299 條（106.11.16）,...   \n",
       "1  [槍砲彈藥刀械管制條例 第 7、12 條（106.06.14）, 中華民國刑法 第 1、25...   \n",
       "2  [刑事訴訟法 第 159.1、369 條（106.11.16）, 中華民國刑法 第 1、13...   \n",
       "\n",
       "                                   history_judgement  \\\n",
       "0  [{'case_id': '臺灣新北地方法院 113 年度 訴 字第 179 號判決(113...   \n",
       "1  [{'case_id': '臺灣新竹地方法院 112 年度 訴 字第 75 號裁定(112....   \n",
       "2  [{'case_id': '臺灣臺中地方法院 112 年度 訴 字第 1877 號裁定(11...   \n",
       "\n",
       "                                             context  \n",
       "0  \\n\\n\\n\\n臺灣新北地方法院刑事判決113年度訴字第179號公  訴  人  臺灣新北地...  \n",
       "1  \\n\\n\\n\\n臺灣高等法院刑事判決112年度上訴字第4225號上  訴  人  臺灣新竹地...  \n",
       "2  \\n\\n\\n\\n 臺灣高等法院臺中分院刑事判決113年度上訴字第213號上  訴  人  臺...  "
      ]
     },
     "execution_count": 18,
     "metadata": {},
     "output_type": "execute_result"
    }
   ],
   "source": [
    "tt.head(3)"
   ]
  }
 ],
 "metadata": {
  "kernelspec": {
   "display_name": "web_scraping",
   "language": "python",
   "name": "python3"
  },
  "language_info": {
   "codemirror_mode": {
    "name": "ipython",
    "version": 3
   },
   "file_extension": ".py",
   "mimetype": "text/x-python",
   "name": "python",
   "nbconvert_exporter": "python",
   "pygments_lexer": "ipython3",
   "version": "3.10.14"
  }
 },
 "nbformat": 4,
 "nbformat_minor": 2
}
