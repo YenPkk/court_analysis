{
 "cells": [
  {
   "cell_type": "code",
   "execution_count": 28,
   "metadata": {},
   "outputs": [],
   "source": [
    "from selenium.webdriver.chrome.service import Service\n",
    "from selenium import webdriver\n",
    "\n",
    "# 處理逾時例外的工具\n",
    "from selenium.common.exceptions import TimeoutException\n",
    "\n",
    "# 面對動態網頁，等待某個元素出現的工具，通常與 exptected_conditions 搭配\n",
    "from selenium.webdriver.support.ui import WebDriverWait\n",
    "\n",
    "# 搭配 WebDriverWait 使用，對元素狀態的一種期待條件，若條件發生，則等待結束，往下一行執行\n",
    "from selenium.webdriver.support import expected_conditions as EC\n",
    "\n",
    "# 期待元素出現要透過什麼方式指定，通常與 EC、WebDriverWait 一起使用\n",
    "from selenium.webdriver.common.by import By\n",
    "\n",
    "# 強制等待 (執行期間休息一下)\n",
    "from time import sleep\n",
    "\n",
    "#beautifulsoup\n",
    "import requests as req\n",
    "from bs4 import BeautifulSoup as bs\n",
    "from pprint import pprint\n",
    "\n",
    "import re"
   ]
  },
  {
   "cell_type": "code",
   "execution_count": 29,
   "metadata": {},
   "outputs": [],
   "source": [
    "driver = webdriver.Chrome(\n",
    ")\n",
    "driver.get(\"https://judgment.judicial.gov.tw/FJUD/Default_AD.aspx\")\n",
    "\n",
    "sleep(1)\n",
    "input_case_reason = driver.find_element(By.CSS_SELECTOR, 'input#jud_jmain')\n",
    "input_case_reason.send_keys(\"殺人\")\n",
    "input_case_content = driver.find_element(By.CSS_SELECTOR, 'input#jud_kw')\n",
    "input_case_content.send_keys(\"中華民國刑法第 271 條&刑事判決\")\n",
    "\n",
    "sleep(2)\n",
    "\n",
    "# 送出搜尋\n",
    "search_button = driver.find_element(By.CSS_SELECTOR, 'input#btnQry')\n",
    "search_button.click()\n",
    "sleep(3)"
   ]
  },
  {
   "cell_type": "code",
   "execution_count": 30,
   "metadata": {},
   "outputs": [
    {
     "name": "stdout",
     "output_type": "stream",
     "text": [
      "https://judgment.judicial.gov.tw/FJUD/qryresultlst.aspx?q=6cce162073a2c1cb1d8644cde16e653d&sort=DS&page=2&ot=in\n"
     ]
    }
   ],
   "source": [
    "#切到iframe中，抓page網址\n",
    "iframe = driver.find_element(By.CSS_SELECTOR, \"iframe#iframe-data\")\n",
    "driver.switch_to.frame(iframe)\n",
    "sleep(2)\n",
    "#main-section\n",
    "page_url = driver.find_element(By.CSS_SELECTOR, 'a#hlNext').get_attribute('href')\n",
    "print(page_url)"
   ]
  },
  {
   "cell_type": "code",
   "execution_count": 31,
   "metadata": {},
   "outputs": [],
   "source": [
    "page_url_list = [] \n",
    "regex_page_url = \"&page=[\\d]*\"\n",
    "test = re.split(regex_page_url, page_url)\n",
    "for each_page in range(1,26):\n",
    "    page_url_list.append(f\"{test[0]}&page={each_page}{test[1]}\") "
   ]
  },
  {
   "cell_type": "code",
   "execution_count": 32,
   "metadata": {},
   "outputs": [],
   "source": [
    "# 放所有case的資料\n",
    "all_case_list = []"
   ]
  },
  {
   "cell_type": "markdown",
   "metadata": {},
   "source": [
    "# 開始爬case，這是每一頁的網址\n",
    "for page in page_url_list:\n",
    "    driver.get(page)\n",
    "    case_url = driver.find_elements(By.CSS_SELECTOR, 'a#hlTitle')\n",
    "    # 這是每一頁當中的至多20筆的資料\n",
    "    for case in case_url:\n",
    "        case.click()\n",
    "        case_html = driver.page_source\n",
    "        soup = bs(case_html, \"lxml\")\n",
    "\n",
    " \n",
    "        # 案件標題id, 有四個標籤都是使用此選擇器，包含主文....(第四個)，那就抓這個就好了啊...\n",
    "        all = soup.select(\"div.col-td\")\n",
    "\n",
    "        # 相關法條\n",
    "        lines = soup.select_one('ul.rela-law')\n",
    "        \n",
    "        # 歷審裁判 history_judgement\n",
    "        history_judgement = soup.select(\"div#JudHis div.panel-body ul li\")\n",
    "        history_judgement_list = []\n",
    "        for index in range(0, len(history_judgement)):\n",
    "            history_judgement_list.append({\n",
    "                \"case_id\":history_judgement[index].get_text(),\n",
    "                \"url\":\"https://judgment.judicial.gov.tw/FJUD/\"+history_judgement[index].select_one('a')['href']\n",
    "            })\n",
    "\n",
    "        all_case_list.append({\n",
    "            \"case_id\":all[0].get_text().strip(),\n",
    "            \"date\":all[1].get_text().strip(),\n",
    "            \"simple_reason\":all[2].get_text().strip(),\n",
    "            \"context\":all[3].get_text(),\n",
    "            \"laws\":lines,\n",
    "            \"history_judgement\":history_judgement_list\n",
    "        })\n",
    "        \n",
    "        #此案件結束，回上一頁，點選下一個按件\n",
    "        driver.back()"
   ]
  },
  {
   "cell_type": "markdown",
   "metadata": {},
   "source": [
    "# 加try excecpt\n",
    "# 開始爬case，這是每一頁的網址\n",
    "for page in page_url_list:\n",
    "    driver.get(page)\n",
    "    try:\n",
    "        cssSelector = 'a#hlTitle'\n",
    "        WebDriverWait(driver, 10).until(\n",
    "        EC.presence_of_element_located(\n",
    "            (By.CSS_SELECTOR, cssSelector)\n",
    "        ))\n",
    "\n",
    "        case_url = driver.find_elements(By.CSS_SELECTOR, cssSelector)\n",
    "    except TimeoutException:\n",
    "        print(\"cases not found\")\n",
    "        break\n",
    "\n",
    "    # cases找到後開始一個一個點\n",
    "    # 這是每一頁當中的至多20筆的資料    \n",
    "    for case in case_url:\n",
    "        case.click()\n",
    "        #要邊要等網頁跑一下，不然javascript一樣出不來\n",
    "        sleep(3)\n",
    "        try:\n",
    "            case_html = driver.page_source\n",
    "            soup = bs(case_html, \"lxml\")\n",
    "\n",
    "            allSelector = 'div.col-td'\n",
    "            WebDriverWait(driver, 10).until(\n",
    "            EC.presence_of_element_located(\n",
    "            (By.CSS_SELECTOR, allSelector)\n",
    "            ))\n",
    "            all = soup.select(allSelector)\n",
    "\n",
    "\n",
    "            linesSelector = 'ul.rela-law'\n",
    "            WebDriverWait(driver, 10).until(\n",
    "            EC.presence_of_element_located(\n",
    "            (By.CSS_SELECTOR, linesSelector)\n",
    "            ))\n",
    "            lines = soup.select_one(linesSelector)\n",
    "            history_judgement = soup.select(\"div#JudHis div.panel-body ul li\")\n",
    "            history_judgement_list = []\n",
    "            for index in range(0, len(history_judgement)):\n",
    "                history_judgement_list.append({\n",
    "                    \"case_id\":history_judgement[index].get_text(),\n",
    "                    \"url\":\"https://judgment.judicial.gov.tw/FJUD/\"+history_judgement[index].select_one('a')['href']\n",
    "                })\n",
    "            all_case_list.append({\n",
    "            \"case_id\":all[0].get_text().strip(),\n",
    "            \"date\":all[1].get_text().strip(),\n",
    "            \"simple_reason\":all[2].get_text().strip(),\n",
    "            \"context\":all[3].get_text(),\n",
    "            \"laws\":lines,\n",
    "            \"history_judgement\":history_judgement_list\n",
    "            })\n",
    "\n",
    "            driver.back()\n",
    "            \n",
    "        except TimeoutException:\n",
    "            print(\"not found...element\")\n",
    "            continue\n"
   ]
  },
  {
   "cell_type": "code",
   "execution_count": 33,
   "metadata": {},
   "outputs": [],
   "source": [
    "# 加try excecpt\n",
    "# 要設一些如果沒抓到東西時的條件，比如歷史審判可能會沒有\n",
    "# 然後改移下一開始的wait反正就是等旁偏那個javascript生出來的測攔出來就好\n",
    "# 開始爬case，這是每一頁的網址\n",
    "for page in page_url_list:\n",
    "    driver.get(page)\n",
    "    try:\n",
    "        cssSelector = 'a#hlTitle'\n",
    "        WebDriverWait(driver, 10).until(\n",
    "        EC.presence_of_element_located(\n",
    "            (By.CSS_SELECTOR, cssSelector)\n",
    "        ))\n",
    "\n",
    "        case_url = driver.find_elements(By.CSS_SELECTOR, cssSelector)\n",
    "    except TimeoutException:\n",
    "        print(\"cases not found\")\n",
    "        break\n",
    "\n",
    "    # cases找到後開始一個一個點\n",
    "    # 這是每一頁當中的至多20筆的資料    \n",
    "    for case in case_url:\n",
    "        case.click()\n",
    "        #要邊要等網頁跑一下，不然javascript一樣出不來\n",
    "        try:\n",
    "            # 看有沒有抓到js生成的側攔\n",
    "            linesSelector = 'ul.rela-law'\n",
    "            WebDriverWait(driver, 10).until(\n",
    "            EC.presence_of_element_located(\n",
    "            (By.CSS_SELECTOR, linesSelector)\n",
    "            ))\n",
    "\n",
    "            #有的話，就取得動態html\n",
    "            case_html = driver.page_source\n",
    "            soup = bs(case_html, \"lxml\")\n",
    "\n",
    "        except TimeoutException:\n",
    "            print(\"not found...element\")\n",
    "            continue\n",
    "\n",
    "        allSelector = 'div.col-td'\n",
    "        all = soup.select(allSelector)\n",
    "\n",
    "\n",
    "        linesSelector = 'ul.rela-law'\n",
    "        lines = soup.select_one(linesSelector)\n",
    "\n",
    "        #目前出錯的都是這一塊\n",
    "        history_judgement = soup.select(\"div#JudHis div.panel-body ul li\")\n",
    "        history_judgement_list = []\n",
    "        try:\n",
    "            for index in range(0, len(history_judgement)):\n",
    "                history_judgement_list.append({\n",
    "                    \"case_id\":history_judgement[index].get_text(),\n",
    "                    \"url\":\"https://judgment.judicial.gov.tw/FJUD/\"+history_judgement[index].select_one('a')['href']\n",
    "                })\n",
    "        except TypeError: \n",
    "            # 如果沒有就pass就好，history_judgement就給她空list\n",
    "            pass\n",
    "        all_case_list.append({\n",
    "        \"case_id\":all[0].get_text().strip(),\n",
    "        \"date\":all[1].get_text().strip(),\n",
    "        \"simple_reason\":all[2].get_text().strip(),\n",
    "        \"context\":all[3].get_text(),\n",
    "        \"laws\":lines,\n",
    "        \"history_judgement\":history_judgement_list\n",
    "        })\n",
    "\n",
    "        driver.back()\n"
   ]
  },
  {
   "cell_type": "code",
   "execution_count": 36,
   "metadata": {},
   "outputs": [
    {
     "name": "stdout",
     "output_type": "stream",
     "text": [
      "<ul class=\"rela-law\"></ul>\n"
     ]
    }
   ],
   "source": [
    "print(all_case_list[44]['laws'])"
   ]
  },
  {
   "cell_type": "code",
   "execution_count": 37,
   "metadata": {},
   "outputs": [
    {
     "name": "stdout",
     "output_type": "stream",
     "text": [
      "500\n"
     ]
    }
   ],
   "source": [
    "print(len(all_case_list))"
   ]
  },
  {
   "cell_type": "code",
   "execution_count": 39,
   "metadata": {},
   "outputs": [],
   "source": [
    "import json"
   ]
  },
  {
   "cell_type": "code",
   "execution_count": 43,
   "metadata": {},
   "outputs": [
    {
     "ename": "TypeError",
     "evalue": "write() argument must be str, not list",
     "output_type": "error",
     "traceback": [
      "\u001b[1;31m---------------------------------------------------------------------------\u001b[0m",
      "\u001b[1;31mTypeError\u001b[0m                                 Traceback (most recent call last)",
      "Cell \u001b[1;32mIn[43], line 2\u001b[0m\n\u001b[0;32m      1\u001b[0m \u001b[38;5;28;01mwith\u001b[39;00m \u001b[38;5;28mopen\u001b[39m (\u001b[38;5;124m\"\u001b[39m\u001b[38;5;124m./cases500.csv\u001b[39m\u001b[38;5;124m\"\u001b[39m, \u001b[38;5;124m'\u001b[39m\u001b[38;5;124mw\u001b[39m\u001b[38;5;124m'\u001b[39m) \u001b[38;5;28;01mas\u001b[39;00m f:\n\u001b[1;32m----> 2\u001b[0m     \u001b[43mf\u001b[49m\u001b[38;5;241;43m.\u001b[39;49m\u001b[43mwrite\u001b[49m\u001b[43m(\u001b[49m\u001b[43mall_case_list\u001b[49m\u001b[43m)\u001b[49m\n",
      "\u001b[1;31mTypeError\u001b[0m: write() argument must be str, not list"
     ]
    }
   ],
   "source": []
  }
 ],
 "metadata": {
  "kernelspec": {
   "display_name": "web_scraping",
   "language": "python",
   "name": "python3"
  },
  "language_info": {
   "codemirror_mode": {
    "name": "ipython",
    "version": 3
   },
   "file_extension": ".py",
   "mimetype": "text/x-python",
   "name": "python",
   "nbconvert_exporter": "python",
   "pygments_lexer": "ipython3",
   "version": "3.10.14"
  }
 },
 "nbformat": 4,
 "nbformat_minor": 2
}
