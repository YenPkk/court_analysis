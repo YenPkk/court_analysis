{
 "cells": [
  {
   "cell_type": "code",
   "execution_count": 1,
   "metadata": {},
   "outputs": [],
   "source": [
    "from selenium.webdriver.chrome.service import Service\n",
    "from selenium import webdriver\n",
    "\n",
    "# 處理逾時例外的工具\n",
    "from selenium.common.exceptions import TimeoutException\n",
    "\n",
    "# 面對動態網頁，等待某個元素出現的工具，通常與 exptected_conditions 搭配\n",
    "from selenium.webdriver.support.ui import WebDriverWait\n",
    "\n",
    "# 搭配 WebDriverWait 使用，對元素狀態的一種期待條件，若條件發生，則等待結束，往下一行執行\n",
    "from selenium.webdriver.support import expected_conditions as EC\n",
    "\n",
    "# 期待元素出現要透過什麼方式指定，通常與 EC、WebDriverWait 一起使用\n",
    "from selenium.webdriver.common.by import By\n",
    "\n",
    "# 強制等待 (執行期間休息一下)\n",
    "from time import sleep\n",
    "\n",
    "#beautifulsoup\n",
    "import requests as req\n",
    "from bs4 import BeautifulSoup as bs\n",
    "from pprint import pprint\n",
    "\n",
    "import re\n",
    "\n",
    "import json\n",
    "\n",
    "import pandas as pd"
   ]
  },
  {
   "cell_type": "code",
   "execution_count": null,
   "metadata": {},
   "outputs": [],
   "source": []
  },
  {
   "cell_type": "code",
   "execution_count": 4,
   "metadata": {},
   "outputs": [],
   "source": [
    "# 吃一個靜態html就抓不到li了這樣試試看\n",
    "res = req.get('https://judgment.judicial.gov.tw/FJUD/data.aspx?ty=JD&id=TPHM%2c111%2c%e4%b8%8a%e8%a8%b4%2c3976%2c20230615%2c2&ot=in')\n",
    "soup = bs(res.text, 'lxml')"
   ]
  },
  {
   "cell_type": "code",
   "execution_count": 9,
   "metadata": {},
   "outputs": [],
   "source": [
    "laws_list = []\n",
    "linesSelector = 'ul.rela-law li'\n",
    "lines = soup.select(linesSelector)"
   ]
  },
  {
   "cell_type": "code",
   "execution_count": 11,
   "metadata": {},
   "outputs": [],
   "source": [
    "for law in lines:\n",
    "    if not str(law.get_text()) == \"None\":\n",
    "        laws_list.append(str(law.get_text()))"
   ]
  },
  {
   "cell_type": "code",
   "execution_count": 29,
   "metadata": {},
   "outputs": [],
   "source": [
    "for index, law in enumerate(lines):\n",
    "    print(law.get_text())           # 即使ResultSet當中沒有元素(get_text()也不會抱錯，那就不用另外判斷了)\n",
    "    print(index)"
   ]
  },
  {
   "cell_type": "code",
   "execution_count": 17,
   "metadata": {},
   "outputs": [],
   "source": [
    "# 試動態html看看\n",
    "driver = webdriver.Chrome(\n",
    ")\n",
    "driver.get(\"https://judgment.judicial.gov.tw/FJUD/data.aspx?ty=JD&id=TPHM%2c111%2c%e4%b8%8a%e8%a8%b4%2c3976%2c20230615%2c2&ot=in\")\n",
    "\n",
    "sleep(2)\n",
    "case_html = driver.page_source\n",
    "se_soup = bs(case_html, 'lxml')"
   ]
  },
  {
   "cell_type": "code",
   "execution_count": 22,
   "metadata": {},
   "outputs": [],
   "source": [
    "laws_list2 = []\n",
    "linesSelector = 'ul.rela-law li'\n",
    "lines2 = se_soup.select(linesSelector)"
   ]
  },
  {
   "cell_type": "code",
   "execution_count": 23,
   "metadata": {},
   "outputs": [],
   "source": [
    "for law in lines2:\n",
    "    # if not str(law.get_text()) == \"None\":\n",
    "    laws_list2.append(str(law.get_text()))"
   ]
  },
  {
   "cell_type": "code",
   "execution_count": 24,
   "metadata": {},
   "outputs": [
    {
     "data": {
      "text/plain": [
       "['槍砲彈藥刀械管制條例 第 2、4、7、8、12、14、15 條（106.06.14）',\n",
       " '刑事訴訟法 第 95、154、156、158.4、159、159.1、159.2、159.5、267、301、346、368、369、377 條（106.11.16）',\n",
       " '中華民國刑法 第 1、2、25、38、51、55、59、150、151、271 條（105.11.30）',\n",
       " '中華民國憲法 第 8、16 條（36.01.01）',\n",
       " '刑事妥速審判法 第 9 條（103.06.04）']"
      ]
     },
     "execution_count": 24,
     "metadata": {},
     "output_type": "execute_result"
    }
   ],
   "source": [
    "laws_list2"
   ]
  },
  {
   "cell_type": "code",
   "execution_count": 28,
   "metadata": {},
   "outputs": [
    {
     "name": "stdout",
     "output_type": "stream",
     "text": [
      "槍砲彈藥刀械管制條例 第 2、4、7、8、12、14、15 條（106.06.14）\n",
      "刑事訴訟法 第 95、154、156、158.4、159、159.1、159.2、159.5、267、301、346、368、369、377 條（106.11.16）\n",
      "中華民國刑法 第 1、2、25、38、51、55、59、150、151、271 條（105.11.30）\n",
      "中華民國憲法 第 8、16 條（36.01.01）\n",
      "刑事妥速審判法 第 9 條（103.06.04）\n"
     ]
    }
   ],
   "source": [
    "for law in lines2:\n",
    "    print(str(law.get_text()))"
   ]
  },
  {
   "cell_type": "code",
   "execution_count": null,
   "metadata": {},
   "outputs": [],
   "source": []
  },
  {
   "cell_type": "code",
   "execution_count": null,
   "metadata": {},
   "outputs": [],
   "source": []
  },
  {
   "cell_type": "code",
   "execution_count": 30,
   "metadata": {},
   "outputs": [],
   "source": [
    "driver = webdriver.Chrome(\n",
    ")\n",
    "driver.get(\"https://judgment.judicial.gov.tw/FJUD/qryresultlst.aspx?q=bb4f863419ed5beeb64a75ece5505309&sort=DS&page=10&ot=in\")\n",
    "\n",
    "sleep(2)\n"
   ]
  },
  {
   "cell_type": "code",
   "execution_count": 40,
   "metadata": {},
   "outputs": [
    {
     "name": "stdout",
     "output_type": "stream",
     "text": [
      "臺灣高等法院 111 年度 上訴 字第 3976 號刑事判決 https://judgment.judicial.gov.tw/FJUD/data.aspx?ty=JD&id=TPHM%2c111%2c%e4%b8%8a%e8%a8%b4%2c3976%2c20230615%2c2&ot=in\n",
      "臺灣屏東地方法院 111 年度 訴 字第 348 號刑事判決 https://judgment.judicial.gov.tw/FJUD/data.aspx?ty=JD&id=PTDM%2c111%2c%e8%a8%b4%2c348%2c20230615%2c1&ot=in\n",
      "臺灣宜蘭地方法院 111 年度 訴 字第 264 號刑事判決 https://judgment.judicial.gov.tw/FJUD/data.aspx?ty=JD&id=ILDM%2c111%2c%e8%a8%b4%2c264%2c20230614%2c5&ot=in\n",
      "臺灣新北地方法院 110 年度 訴 字第 1372 號刑事判決 https://judgment.judicial.gov.tw/FJUD/data.aspx?ty=JD&id=PCDM%2c110%2c%e8%a8%b4%2c1372%2c20230614%2c1&ot=in\n",
      "臺灣苗栗地方法院 111 年度 訴 字第 217 號刑事判決 https://judgment.judicial.gov.tw/FJUD/data.aspx?ty=JD&id=MLDM%2c111%2c%e8%a8%b4%2c217%2c20230613%2c1&ot=in\n",
      "臺灣高雄地方法院 111 年度 重訴 字第 21 號刑事判決 https://judgment.judicial.gov.tw/FJUD/data.aspx?ty=JD&id=KSDM%2c111%2c%e9%87%8d%e8%a8%b4%2c21%2c20230613%2c1&ot=in\n",
      "臺灣高雄地方法院 111 年度 訴 字第 161 號刑事判決 https://judgment.judicial.gov.tw/FJUD/data.aspx?ty=JD&id=KSDM%2c111%2c%e8%a8%b4%2c161%2c20230607%2c1&ot=in\n",
      "臺灣高等法院 高雄分院 112 年度 上訴 字第 40 號刑事判決 https://judgment.judicial.gov.tw/FJUD/data.aspx?ty=JD&id=KSHM%2c112%2c%e4%b8%8a%e8%a8%b4%2c40%2c20230606%2c4&ot=in\n",
      "臺灣高等法院 111 年度 上重訴 字第 48 號刑事判決 https://judgment.judicial.gov.tw/FJUD/data.aspx?ty=JD&id=TPHM%2c111%2c%e4%b8%8a%e9%87%8d%e8%a8%b4%2c48%2c20230606%2c3&ot=in\n",
      "臺灣高等法院 臺中分院 112 年度 上訴 字第 900 號刑事判決 https://judgment.judicial.gov.tw/FJUD/data.aspx?ty=JD&id=TCHM%2c112%2c%e4%b8%8a%e8%a8%b4%2c900%2c20230531%2c1&ot=in\n",
      "臺灣高等法院 臺中分院 112 年度 上訴 字第 392 號刑事判決 https://judgment.judicial.gov.tw/FJUD/data.aspx?ty=JD&id=TCHM%2c112%2c%e4%b8%8a%e8%a8%b4%2c392%2c20230531%2c2&ot=in\n",
      "臺灣新北地方法院 112 年度 訴 字第 116 號刑事判決 https://judgment.judicial.gov.tw/FJUD/data.aspx?ty=JD&id=PCDM%2c112%2c%e8%a8%b4%2c116%2c20230531%2c1&ot=in\n",
      "臺灣嘉義地方法院 111 年度 訴 字第 313 號刑事判決 https://judgment.judicial.gov.tw/FJUD/data.aspx?ty=JD&id=CYDM%2c111%2c%e8%a8%b4%2c313%2c20230531%2c2&ot=in\n",
      "臺灣高等法院 111 年度 重上更四緝 字第 2 號刑事判決 https://judgment.judicial.gov.tw/FJUD/data.aspx?ty=JD&id=TPHM%2c111%2c%e9%87%8d%e4%b8%8a%e6%9b%b4%e5%9b%9b%e7%b7%9d%2c2%2c20230530%2c3&ot=in\n",
      "臺灣桃園地方法院 111 年度 重訴 字第 53 號刑事判決 https://judgment.judicial.gov.tw/FJUD/data.aspx?ty=JD&id=TYDM%2c111%2c%e9%87%8d%e8%a8%b4%2c53%2c20230526%2c3&ot=in\n",
      "臺灣高等法院 111 年度 上訴 字第 3483 號刑事判決 https://judgment.judicial.gov.tw/FJUD/data.aspx?ty=JD&id=TPHM%2c111%2c%e4%b8%8a%e8%a8%b4%2c3483%2c20230525%2c1&ot=in\n",
      "臺灣臺北地方法院 111 年度 重訴 字第 20 號刑事判決 https://judgment.judicial.gov.tw/FJUD/data.aspx?ty=JD&id=TPDM%2c111%2c%e9%87%8d%e8%a8%b4%2c20%2c20230525%2c1&ot=in\n",
      "臺灣新北地方法院 111 年度 訴緝 字第 68 號刑事判決 https://judgment.judicial.gov.tw/FJUD/data.aspx?ty=JD&id=PCDM%2c111%2c%e8%a8%b4%e7%b7%9d%2c68%2c20230524%2c1&ot=in\n",
      "臺灣高雄地方法院 111 年度 訴 字第 228 號刑事判決 https://judgment.judicial.gov.tw/FJUD/data.aspx?ty=JD&id=KSDM%2c111%2c%e8%a8%b4%2c228%2c20230519%2c2&ot=in\n",
      "臺灣彰化地方法院 111 年度 重訴 字第 13 號刑事判決 https://judgment.judicial.gov.tw/FJUD/data.aspx?ty=JD&id=CHDM%2c111%2c%e9%87%8d%e8%a8%b4%2c13%2c20230517%2c1&ot=in\n"
     ]
    }
   ],
   "source": [
    "cssSelector = 'a#hlTitle'\n",
    "\n",
    "case_url = driver.find_elements(By.CSS_SELECTOR, cssSelector)\n",
    "\n",
    "for i in case_url:\n",
    "    print(i.text, i.get_attribute('href'))"
   ]
  },
  {
   "cell_type": "code",
   "execution_count": null,
   "metadata": {},
   "outputs": [],
   "source": [
    "driver.get()"
   ]
  }
 ],
 "metadata": {
  "kernelspec": {
   "display_name": "web_scraping",
   "language": "python",
   "name": "python3"
  },
  "language_info": {
   "codemirror_mode": {
    "name": "ipython",
    "version": 3
   },
   "file_extension": ".py",
   "mimetype": "text/x-python",
   "name": "python",
   "nbconvert_exporter": "python",
   "pygments_lexer": "ipython3",
   "version": "3.10.14"
  }
 },
 "nbformat": 4,
 "nbformat_minor": 2
}
